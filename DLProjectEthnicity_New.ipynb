{
  "cells": [
    {
      "cell_type": "code",
      "execution_count": 1,
      "id": "assisted-breathing",
      "metadata": {
        "id": "assisted-breathing"
      },
      "outputs": [],
      "source": [
        "import numpy as np\n",
        "import pandas as pd\n",
        "import matplotlib.pyplot as plt\n",
        "import plotly.express as px\n",
        "\n",
        "from sklearn.model_selection import train_test_split\n",
        "\n",
        "import tensorflow as tf"
      ]
    },
    {
      "cell_type": "markdown",
      "id": "hearing-inside",
      "metadata": {
        "id": "hearing-inside"
      },
      "source": [
        "# READ DATA"
      ]
    },
    {
      "cell_type": "code",
      "source": [
        "from google.colab import drive\n",
        "drive.mount('/content/drive')"
      ],
      "metadata": {
        "colab": {
          "base_uri": "https://localhost:8080/"
        },
        "id": "CvurAXeJtYCt",
        "outputId": "0624c97d-9319-49b8-9be2-fdedecee7791"
      },
      "id": "CvurAXeJtYCt",
      "execution_count": 2,
      "outputs": [
        {
          "output_type": "stream",
          "name": "stdout",
          "text": [
            "Mounted at /content/drive\n"
          ]
        }
      ]
    },
    {
      "cell_type": "code",
      "execution_count": 4,
      "id": "senior-thumb",
      "metadata": {
        "id": "senior-thumb"
      },
      "outputs": [],
      "source": [
        "data = pd.read_csv('/content/drive/MyDrive/Colab Notebooks/age_gender.csv')"
      ]
    },
    {
      "cell_type": "markdown",
      "id": "vietnamese-queue",
      "metadata": {
        "id": "vietnamese-queue"
      },
      "source": [
        "# DATA PROCESSING"
      ]
    },
    {
      "cell_type": "code",
      "execution_count": 5,
      "id": "studied-mapping",
      "metadata": {
        "id": "studied-mapping"
      },
      "outputs": [],
      "source": [
        "data = data.drop('img_name', axis=1)"
      ]
    },
    {
      "cell_type": "code",
      "execution_count": 6,
      "id": "joined-contribution",
      "metadata": {
        "id": "joined-contribution"
      },
      "outputs": [],
      "source": [
        "data['age'] = pd.qcut(data['age'], q=10, labels=[0, 1, 2, 3,4,5,6,7,8,9])"
      ]
    },
    {
      "cell_type": "code",
      "execution_count": 7,
      "id": "republican-discovery",
      "metadata": {
        "colab": {
          "base_uri": "https://localhost:8080/"
        },
        "id": "republican-discovery",
        "outputId": "678093e3-41a7-4daa-e87a-9a08f0027af6"
      },
      "outputs": [
        {
          "output_type": "execute_result",
          "data": {
            "text/plain": [
              "48.0"
            ]
          },
          "metadata": {},
          "execution_count": 7
        }
      ],
      "source": [
        "np.sqrt(len(data['pixels'][0].split(' ')))"
      ]
    },
    {
      "cell_type": "code",
      "execution_count": 8,
      "id": "comic-parade",
      "metadata": {
        "id": "comic-parade"
      },
      "outputs": [],
      "source": [
        "num_pixels = 2304\n",
        "img_height = 48\n",
        "img_width = 48"
      ]
    },
    {
      "cell_type": "code",
      "execution_count": 9,
      "id": "thirty-mayor",
      "metadata": {
        "id": "thirty-mayor"
      },
      "outputs": [],
      "source": [
        "target_columns = ['gender', 'ethnicity', 'age']\n",
        "\n",
        "y = data[target_columns]\n",
        "X = data.drop(target_columns, axis=1)"
      ]
    },
    {
      "cell_type": "markdown",
      "id": "seeing-purple",
      "metadata": {
        "id": "seeing-purple"
      },
      "source": [
        "# RESHAPE X"
      ]
    },
    {
      "cell_type": "code",
      "execution_count": 10,
      "id": "contrary-savage",
      "metadata": {
        "id": "contrary-savage"
      },
      "outputs": [],
      "source": [
        "X = data['pixels'].str.split(' ', expand=True)"
      ]
    },
    {
      "cell_type": "code",
      "execution_count": 11,
      "id": "compound-candy",
      "metadata": {
        "id": "compound-candy"
      },
      "outputs": [],
      "source": [
        "X = np.array(X).astype(int)\n",
        "X = np.array([a.reshape(48, 48) for a in X])"
      ]
    },
    {
      "cell_type": "code",
      "execution_count": 12,
      "id": "coated-simpson",
      "metadata": {
        "colab": {
          "base_uri": "https://localhost:8080/"
        },
        "id": "coated-simpson",
        "outputId": "51ac48cd-dffb-45e3-c352-105bb953f3eb"
      },
      "outputs": [
        {
          "output_type": "execute_result",
          "data": {
            "text/plain": [
              "(23705, 48, 48)"
            ]
          },
          "metadata": {},
          "execution_count": 12
        }
      ],
      "source": [
        "X.shape"
      ]
    },
    {
      "cell_type": "markdown",
      "id": "enabling-concentration",
      "metadata": {
        "id": "enabling-concentration"
      },
      "source": [
        "# Training"
      ]
    },
    {
      "cell_type": "code",
      "execution_count": 13,
      "id": "impressive-fifteen",
      "metadata": {
        "id": "impressive-fifteen"
      },
      "outputs": [],
      "source": [
        "y_gender = np.array(y['gender'])\n",
        "y_ethnicity = np.array(y['ethnicity'])\n",
        "y_age = np.array(y['age'])"
      ]
    },
    {
      "cell_type": "code",
      "execution_count": 14,
      "id": "comfortable-thailand",
      "metadata": {
        "colab": {
          "base_uri": "https://localhost:8080/"
        },
        "id": "comfortable-thailand",
        "outputId": "0b4d65c6-3a18-465c-9316-d372bcfaa845"
      },
      "outputs": [
        {
          "output_type": "execute_result",
          "data": {
            "text/plain": [
              "23705"
            ]
          },
          "metadata": {},
          "execution_count": 14
        }
      ],
      "source": [
        "len(y_ethnicity)"
      ]
    },
    {
      "cell_type": "markdown",
      "id": "cooked-gentleman",
      "metadata": {
        "id": "cooked-gentleman"
      },
      "source": [
        "## Model Def"
      ]
    },
    {
      "cell_type": "code",
      "execution_count": 15,
      "id": "mineral-button",
      "metadata": {
        "id": "mineral-button"
      },
      "outputs": [],
      "source": [
        "def build_model(num_classes, activation, loss):\n",
        "    \n",
        "    inputs = tf.keras.Input(shape=(img_height, img_width, 1))\n",
        "    x = tf.keras.layers.experimental.preprocessing.Rescaling(1./255)(inputs)\n",
        "    x = tf.keras.layers.Conv2D(16, 3, padding='same', activation='relu')(x)\n",
        "    x = tf.keras.layers.MaxPooling2D()(x)\n",
        "    x = tf.keras.layers.Conv2D(32, 3, padding='same', activation='relu')(x)\n",
        "    x = tf.keras.layers.MaxPooling2D()(x)\n",
        "    x = tf.keras.layers.Conv2D(64, 3, padding='same', activation='relu')(x)\n",
        "    x = tf.keras.layers.MaxPooling2D()(x)\n",
        "    x = tf.keras.layers.Flatten()(x)\n",
        "    x = tf.keras.layers.Dense(128, activation='relu')(x)\n",
        "    outputs = tf.keras.layers.Dense(num_classes, activation=activation)(x)\n",
        "    \n",
        "    model = tf.keras.Model(inputs=inputs, outputs=outputs)\n",
        "    \n",
        "    \n",
        "    model.compile(\n",
        "        optimizer='adam',\n",
        "        loss=loss,\n",
        "        metrics=['accuracy']\n",
        "    )\n",
        "    \n",
        "    return model"
      ]
    },
    {
      "cell_type": "code",
      "execution_count": 16,
      "id": "postal-spread",
      "metadata": {
        "colab": {
          "base_uri": "https://localhost:8080/"
        },
        "id": "postal-spread",
        "outputId": "689f6e78-a915-4f95-a0d3-08f8c828cecd"
      },
      "outputs": [
        {
          "output_type": "execute_result",
          "data": {
            "text/plain": [
              "{'age': [0, 1, 9, 2, 3, 4, 5, 6, 7, 8],\n",
              " 'ethnicity': [2, 3, 4, 0, 1],\n",
              " 'gender': [0, 1]}"
            ]
          },
          "metadata": {},
          "execution_count": 16
        }
      ],
      "source": [
        "{column: list(data[column].unique()) for column in ['gender', 'ethnicity', 'age']}"
      ]
    },
    {
      "cell_type": "code",
      "execution_count": 17,
      "id": "temporal-password",
      "metadata": {
        "id": "temporal-password"
      },
      "outputs": [],
      "source": [
        "X_gender_train, X_gender_test, y_gender_train, y_gender_test = train_test_split(X, y_gender, train_size=0.7)\n",
        "X_ethnicity_train, X_ethnicity_test, y_ethnicity_train, y_ethnicity_test = train_test_split(X, y_ethnicity, train_size=0.7)\n",
        "X_age_train, X_age_test, y_age_train, y_age_test = train_test_split(X, y_age, train_size=0.7)"
      ]
    },
    {
      "cell_type": "markdown",
      "id": "helpful-caution",
      "metadata": {
        "id": "helpful-caution"
      },
      "source": [
        "## Ethnicity Training Fix Loss: binary_crossentropy (NOT WORKING)"
      ]
    },
    {
      "cell_type": "markdown",
      "id": "existing-harassment",
      "metadata": {
        "id": "existing-harassment"
      },
      "source": [
        "## Ethnicity Training Fix Loss: sparse_categorical_crossentropy"
      ]
    },
    {
      "cell_type": "markdown",
      "id": "helpful-georgia",
      "metadata": {
        "id": "helpful-georgia"
      },
      "source": [
        "## Activation: sigmoid, Loss: sparse_categorical_crossentropy"
      ]
    },
    {
      "cell_type": "code",
      "execution_count": 18,
      "id": "checked-provision",
      "metadata": {
        "colab": {
          "base_uri": "https://localhost:8080/",
          "height": 283
        },
        "id": "checked-provision",
        "outputId": "58b4848b-c9cf-480c-f6c7-287eed149495"
      },
      "outputs": [
        {
          "output_type": "stream",
          "name": "stdout",
          "text": [
            "223/223 [==============================] - 1s 5ms/step - loss: 0.9058 - accuracy: 0.6745\n"
          ]
        },
        {
          "output_type": "display_data",
          "data": {
            "image/png": "[encoded data removed]",
            "text/plain": [
              "<Figure size 432x288 with 1 Axes>"
            ]
          },
          "metadata": {
            "needs_background": "light"
          }
        }
      ],
      "source": [
        "ethnicity_model = build_model(5, activation='sigmoid', loss='sparse_categorical_crossentropy')\n",
        "\n",
        "ethnicity_history = ethnicity_model.fit(\n",
        "    X_ethnicity_train,\n",
        "    y_ethnicity_train,\n",
        "    validation_split=0.2,\n",
        "    batch_size=5000,\n",
        "    epochs=50,\n",
        "    callbacks=[tf.keras.callbacks.ReduceLROnPlateau()],\n",
        "    verbose=0\n",
        ")\n",
        "\n",
        "x = np.linspace(0, 50, 50)\n",
        "plt.plot(x, ethnicity_history.history['loss'])\n",
        "plt.plot(x, ethnicity_history.history['val_loss'])\n",
        "\n",
        "ethnicity_acc = ethnicity_model.evaluate(X_ethnicity_test, y_ethnicity_test)[1]"
      ]
    },
    {
      "cell_type": "markdown",
      "id": "universal-massage",
      "metadata": {
        "id": "universal-massage"
      },
      "source": [
        "## Activation: softmax, Loss: sparse_categorical_crossentropy"
      ]
    },
    {
      "cell_type": "code",
      "execution_count": 19,
      "id": "above-crown",
      "metadata": {
        "colab": {
          "base_uri": "https://localhost:8080/",
          "height": 282
        },
        "id": "above-crown",
        "outputId": "7e39f8b3-654d-4176-e269-08c1f517afe0"
      },
      "outputs": [
        {
          "output_type": "stream",
          "name": "stdout",
          "text": [
            "223/223 [==============================] - 1s 5ms/step - loss: 0.8470 - accuracy: 0.6981\n"
          ]
        },
        {
          "output_type": "display_data",
          "data": {
            "image/png": "[encoded data removed]",
            "text/plain": [
              "<Figure size 432x288 with 1 Axes>"
            ]
          },
          "metadata": {
            "needs_background": "light"
          }
        }
      ],
      "source": [
        "ethnicity_model = build_model(5, activation='softmax', loss='sparse_categorical_crossentropy')\n",
        "\n",
        "ethnicity_history = ethnicity_model.fit(\n",
        "    X_ethnicity_train,\n",
        "    y_ethnicity_train,\n",
        "    validation_split=0.2,\n",
        "    batch_size=5000,\n",
        "    epochs=50,\n",
        "    callbacks=[tf.keras.callbacks.ReduceLROnPlateau()],\n",
        "    verbose=0\n",
        ")\n",
        "\n",
        "x = np.linspace(0, 50, 50)\n",
        "plt.plot(x, ethnicity_history.history['loss'])\n",
        "plt.plot(x, ethnicity_history.history['val_loss'])\n",
        "\n",
        "ethnicity_acc = ethnicity_model.evaluate(X_ethnicity_test, y_ethnicity_test)[1]"
      ]
    },
    {
      "cell_type": "markdown",
      "id": "integrated-margin",
      "metadata": {
        "id": "integrated-margin"
      },
      "source": [
        "## Activation: relu, Loss: sparse_categorical_crossentropy"
      ]
    },
    {
      "cell_type": "code",
      "execution_count": 20,
      "id": "complete-mauritius",
      "metadata": {
        "scrolled": true,
        "colab": {
          "base_uri": "https://localhost:8080/",
          "height": 282
        },
        "id": "complete-mauritius",
        "outputId": "ea37966f-c2df-4ce1-d496-7ac71455fc4c"
      },
      "outputs": [
        {
          "output_type": "stream",
          "name": "stdout",
          "text": [
            "223/223 [==============================] - 1s 5ms/step - loss: 4.5070 - accuracy: 0.1714\n"
          ]
        },
        {
          "output_type": "display_data",
          "data": {
            "image/png": "[encoded data removed]",
            "text/plain": [
              "<Figure size 432x288 with 1 Axes>"
            ]
          },
          "metadata": {
            "needs_background": "light"
          }
        }
      ],
      "source": [
        "ethnicity_model = build_model(5, activation='relu', loss='sparse_categorical_crossentropy')\n",
        "\n",
        "ethnicity_history = ethnicity_model.fit(\n",
        "    X_ethnicity_train,\n",
        "    y_ethnicity_train,\n",
        "    validation_split=0.2,\n",
        "    batch_size=5000,\n",
        "    epochs=50,\n",
        "    callbacks=[tf.keras.callbacks.ReduceLROnPlateau()],\n",
        "    verbose=0\n",
        ")\n",
        "\n",
        "x = np.linspace(0, 50, 50)\n",
        "plt.plot(x, ethnicity_history.history['loss'])\n",
        "plt.plot(x, ethnicity_history.history['val_loss'])\n",
        "\n",
        "ethnicity_acc = ethnicity_model.evaluate(X_ethnicity_test, y_ethnicity_test)[1]"
      ]
    },
    {
      "cell_type": "markdown",
      "id": "exclusive-cruise",
      "metadata": {
        "id": "exclusive-cruise"
      },
      "source": [
        "## Ethnicity Training Fix Loss: mean_squared_error"
      ]
    },
    {
      "cell_type": "markdown",
      "id": "interim-sterling",
      "metadata": {
        "id": "interim-sterling"
      },
      "source": [
        "## Activation: sigmoid, Loss: mean_squared_error"
      ]
    },
    {
      "cell_type": "code",
      "execution_count": 21,
      "id": "vietnamese-chancellor",
      "metadata": {
        "colab": {
          "base_uri": "https://localhost:8080/",
          "height": 559
        },
        "id": "vietnamese-chancellor",
        "outputId": "41dd5c52-756a-4a00-fa60-2ab1865b2765"
      },
      "outputs": [
        {
          "output_type": "display_data",
          "data": {
            "text/html": [
              "<html>\n",
              "<head><meta charset=\"utf-8\" /></head>\n",
              "<body>\n",
              "    <div>\n",
              "            <script src=\"https://cdnjs.cloudflare.com/ajax/libs/mathjax/2.7.5/MathJax.js?config=TeX-AMS-MML_SVG\"></script><script type=\"text/javascript\">if (window.MathJax) {MathJax.Hub.Config({SVG: {font: \"STIX-Web\"}});}</script>\n",
              "                <script type=\"text/javascript\">window.PlotlyConfig = {MathJaxConfig: 'local'};</script>\n",
              "        <script src=\"https://cdn.plot.ly/plotly-latest.min.js\"></script>    \n",
              "            <div id=\"6cf4599a-a6e1-4b5b-9251-d354b4b34927\" class=\"plotly-graph-div\" style=\"height:525px; width:100%;\"></div>\n",
              "            <script type=\"text/javascript\">\n",
              "                \n",
              "                    window.PLOTLYENV=window.PLOTLYENV || {};\n",
              "                    \n",
              "                if (document.getElementById(\"6cf4599a-a6e1-4b5b-9251-d354b4b34927\")) {\n",
              "                    Plotly.newPlot(\n",
              "                        '6cf4599a-a6e1-4b5b-9251-d354b4b34927',\n",
              "                        [{\"hoverlabel\": {\"namelength\": 0}, \"hovertemplate\": \"y=%{y}\", \"legendgroup\": \"\", \"line\": {\"color\": \"#636efa\", \"dash\": \"solid\"}, \"mode\": \"lines\", \"name\": \"\", \"showlegend\": false, \"type\": \"scatter\", \"xaxis\": \"x\", \"y\": [\"loss\", \"val_loss\"], \"yaxis\": \"y\"}],\n",
              "                        {\"legend\": {\"tracegroupgap\": 0}, \"template\": {\"data\": {\"bar\": [{\"error_x\": {\"color\": \"#2a3f5f\"}, \"error_y\": {\"color\": \"#2a3f5f\"}, \"marker\": {\"line\": {\"color\": \"#E5ECF6\", \"width\": 0.5}}, \"type\": \"bar\"}], \"barpolar\": [{\"marker\": {\"line\": {\"color\": \"#E5ECF6\", \"width\": 0.5}}, \"type\": \"barpolar\"}], \"carpet\": [{\"aaxis\": {\"endlinecolor\": \"#2a3f5f\", \"gridcolor\": \"white\", \"linecolor\": \"white\", \"minorgridcolor\": \"white\", \"startlinecolor\": \"#2a3f5f\"}, \"baxis\": {\"endlinecolor\": \"#2a3f5f\", \"gridcolor\": \"white\", \"linecolor\": \"white\", \"minorgridcolor\": \"white\", \"startlinecolor\": \"#2a3f5f\"}, \"type\": \"carpet\"}], \"choropleth\": [{\"colorbar\": {\"outlinewidth\": 0, \"ticks\": \"\"}, \"type\": \"choropleth\"}], \"contour\": [{\"colorbar\": {\"outlinewidth\": 0, \"ticks\": \"\"}, \"colorscale\": [[0.0, \"#0d0887\"], [0.1111111111111111, \"#46039f\"], [0.2222222222222222, \"#7201a8\"], [0.3333333333333333, \"#9c179e\"], [0.4444444444444444, \"#bd3786\"], [0.5555555555555556, \"#d8576b\"], [0.6666666666666666, \"#ed7953\"], [0.7777777777777778, \"#fb9f3a\"], [0.8888888888888888, \"#fdca26\"], [1.0, \"#f0f921\"]], \"type\": \"contour\"}], \"contourcarpet\": [{\"colorbar\": {\"outlinewidth\": 0, \"ticks\": \"\"}, \"type\": \"contourcarpet\"}], \"heatmap\": [{\"colorbar\": {\"outlinewidth\": 0, \"ticks\": \"\"}, \"colorscale\": [[0.0, \"#0d0887\"], [0.1111111111111111, \"#46039f\"], [0.2222222222222222, \"#7201a8\"], [0.3333333333333333, \"#9c179e\"], [0.4444444444444444, \"#bd3786\"], [0.5555555555555556, \"#d8576b\"], [0.6666666666666666, \"#ed7953\"], [0.7777777777777778, \"#fb9f3a\"], [0.8888888888888888, \"#fdca26\"], [1.0, \"#f0f921\"]], \"type\": \"heatmap\"}], \"heatmapgl\": [{\"colorbar\": {\"outlinewidth\": 0, \"ticks\": \"\"}, \"colorscale\": [[0.0, \"#0d0887\"], [0.1111111111111111, \"#46039f\"], [0.2222222222222222, \"#7201a8\"], [0.3333333333333333, \"#9c179e\"], [0.4444444444444444, \"#bd3786\"], [0.5555555555555556, \"#d8576b\"], [0.6666666666666666, \"#ed7953\"], [0.7777777777777778, \"#fb9f3a\"], [0.8888888888888888, \"#fdca26\"], [1.0, \"#f0f921\"]], \"type\": \"heatmapgl\"}], \"histogram\": [{\"marker\": {\"colorbar\": {\"outlinewidth\": 0, \"ticks\": \"\"}}, \"type\": \"histogram\"}], \"histogram2d\": [{\"colorbar\": {\"outlinewidth\": 0, \"ticks\": \"\"}, \"colorscale\": [[0.0, \"#0d0887\"], [0.1111111111111111, \"#46039f\"], [0.2222222222222222, \"#7201a8\"], [0.3333333333333333, \"#9c179e\"], [0.4444444444444444, \"#bd3786\"], [0.5555555555555556, \"#d8576b\"], [0.6666666666666666, \"#ed7953\"], [0.7777777777777778, \"#fb9f3a\"], [0.8888888888888888, \"#fdca26\"], [1.0, \"#f0f921\"]], \"type\": \"histogram2d\"}], \"histogram2dcontour\": [{\"colorbar\": {\"outlinewidth\": 0, \"ticks\": \"\"}, \"colorscale\": [[0.0, \"#0d0887\"], [0.1111111111111111, \"#46039f\"], [0.2222222222222222, \"#7201a8\"], [0.3333333333333333, \"#9c179e\"], [0.4444444444444444, \"#bd3786\"], [0.5555555555555556, \"#d8576b\"], [0.6666666666666666, \"#ed7953\"], [0.7777777777777778, \"#fb9f3a\"], [0.8888888888888888, \"#fdca26\"], [1.0, \"#f0f921\"]], \"type\": \"histogram2dcontour\"}], \"mesh3d\": [{\"colorbar\": {\"outlinewidth\": 0, \"ticks\": \"\"}, \"type\": \"mesh3d\"}], \"parcoords\": [{\"line\": {\"colorbar\": {\"outlinewidth\": 0, \"ticks\": \"\"}}, \"type\": \"parcoords\"}], \"pie\": [{\"automargin\": true, \"type\": \"pie\"}], \"scatter\": [{\"marker\": {\"colorbar\": {\"outlinewidth\": 0, \"ticks\": \"\"}}, \"type\": \"scatter\"}], \"scatter3d\": [{\"line\": {\"colorbar\": {\"outlinewidth\": 0, \"ticks\": \"\"}}, \"marker\": {\"colorbar\": {\"outlinewidth\": 0, \"ticks\": \"\"}}, \"type\": \"scatter3d\"}], \"scattercarpet\": [{\"marker\": {\"colorbar\": {\"outlinewidth\": 0, \"ticks\": \"\"}}, \"type\": \"scattercarpet\"}], \"scattergeo\": [{\"marker\": {\"colorbar\": {\"outlinewidth\": 0, \"ticks\": \"\"}}, \"type\": \"scattergeo\"}], \"scattergl\": [{\"marker\": {\"colorbar\": {\"outlinewidth\": 0, \"ticks\": \"\"}}, \"type\": \"scattergl\"}], \"scattermapbox\": [{\"marker\": {\"colorbar\": {\"outlinewidth\": 0, \"ticks\": \"\"}}, \"type\": \"scattermapbox\"}], \"scatterpolar\": [{\"marker\": {\"colorbar\": {\"outlinewidth\": 0, \"ticks\": \"\"}}, \"type\": \"scatterpolar\"}], \"scatterpolargl\": [{\"marker\": {\"colorbar\": {\"outlinewidth\": 0, \"ticks\": \"\"}}, \"type\": \"scatterpolargl\"}], \"scatterternary\": [{\"marker\": {\"colorbar\": {\"outlinewidth\": 0, \"ticks\": \"\"}}, \"type\": \"scatterternary\"}], \"surface\": [{\"colorbar\": {\"outlinewidth\": 0, \"ticks\": \"\"}, \"colorscale\": [[0.0, \"#0d0887\"], [0.1111111111111111, \"#46039f\"], [0.2222222222222222, \"#7201a8\"], [0.3333333333333333, \"#9c179e\"], [0.4444444444444444, \"#bd3786\"], [0.5555555555555556, \"#d8576b\"], [0.6666666666666666, \"#ed7953\"], [0.7777777777777778, \"#fb9f3a\"], [0.8888888888888888, \"#fdca26\"], [1.0, \"#f0f921\"]], \"type\": \"surface\"}], \"table\": [{\"cells\": {\"fill\": {\"color\": \"#EBF0F8\"}, \"line\": {\"color\": \"white\"}}, \"header\": {\"fill\": {\"color\": \"#C8D4E3\"}, \"line\": {\"color\": \"white\"}}, \"type\": \"table\"}]}, \"layout\": {\"annotationdefaults\": {\"arrowcolor\": \"#2a3f5f\", \"arrowhead\": 0, \"arrowwidth\": 1}, \"coloraxis\": {\"colorbar\": {\"outlinewidth\": 0, \"ticks\": \"\"}}, \"colorscale\": {\"diverging\": [[0, \"#8e0152\"], [0.1, \"#c51b7d\"], [0.2, \"#de77ae\"], [0.3, \"#f1b6da\"], [0.4, \"#fde0ef\"], [0.5, \"#f7f7f7\"], [0.6, \"#e6f5d0\"], [0.7, \"#b8e186\"], [0.8, \"#7fbc41\"], [0.9, \"#4d9221\"], [1, \"#276419\"]], \"sequential\": [[0.0, \"#0d0887\"], [0.1111111111111111, \"#46039f\"], [0.2222222222222222, \"#7201a8\"], [0.3333333333333333, \"#9c179e\"], [0.4444444444444444, \"#bd3786\"], [0.5555555555555556, \"#d8576b\"], [0.6666666666666666, \"#ed7953\"], [0.7777777777777778, \"#fb9f3a\"], [0.8888888888888888, \"#fdca26\"], [1.0, \"#f0f921\"]], \"sequentialminus\": [[0.0, \"#0d0887\"], [0.1111111111111111, \"#46039f\"], [0.2222222222222222, \"#7201a8\"], [0.3333333333333333, \"#9c179e\"], [0.4444444444444444, \"#bd3786\"], [0.5555555555555556, \"#d8576b\"], [0.6666666666666666, \"#ed7953\"], [0.7777777777777778, \"#fb9f3a\"], [0.8888888888888888, \"#fdca26\"], [1.0, \"#f0f921\"]]}, \"colorway\": [\"#636efa\", \"#EF553B\", \"#00cc96\", \"#ab63fa\", \"#FFA15A\", \"#19d3f3\", \"#FF6692\", \"#B6E880\", \"#FF97FF\", \"#FECB52\"], \"font\": {\"color\": \"#2a3f5f\"}, \"geo\": {\"bgcolor\": \"white\", \"lakecolor\": \"white\", \"landcolor\": \"#E5ECF6\", \"showlakes\": true, \"showland\": true, \"subunitcolor\": \"white\"}, \"hoverlabel\": {\"align\": \"left\"}, \"hovermode\": \"closest\", \"mapbox\": {\"style\": \"light\"}, \"paper_bgcolor\": \"white\", \"plot_bgcolor\": \"#E5ECF6\", \"polar\": {\"angularaxis\": {\"gridcolor\": \"white\", \"linecolor\": \"white\", \"ticks\": \"\"}, \"bgcolor\": \"#E5ECF6\", \"radialaxis\": {\"gridcolor\": \"white\", \"linecolor\": \"white\", \"ticks\": \"\"}}, \"scene\": {\"xaxis\": {\"backgroundcolor\": \"#E5ECF6\", \"gridcolor\": \"white\", \"gridwidth\": 2, \"linecolor\": \"white\", \"showbackground\": true, \"ticks\": \"\", \"zerolinecolor\": \"white\"}, \"yaxis\": {\"backgroundcolor\": \"#E5ECF6\", \"gridcolor\": \"white\", \"gridwidth\": 2, \"linecolor\": \"white\", \"showbackground\": true, \"ticks\": \"\", \"zerolinecolor\": \"white\"}, \"zaxis\": {\"backgroundcolor\": \"#E5ECF6\", \"gridcolor\": \"white\", \"gridwidth\": 2, \"linecolor\": \"white\", \"showbackground\": true, \"ticks\": \"\", \"zerolinecolor\": \"white\"}}, \"shapedefaults\": {\"line\": {\"color\": \"#2a3f5f\"}}, \"ternary\": {\"aaxis\": {\"gridcolor\": \"white\", \"linecolor\": \"white\", \"ticks\": \"\"}, \"baxis\": {\"gridcolor\": \"white\", \"linecolor\": \"white\", \"ticks\": \"\"}, \"bgcolor\": \"#E5ECF6\", \"caxis\": {\"gridcolor\": \"white\", \"linecolor\": \"white\", \"ticks\": \"\"}}, \"title\": {\"x\": 0.05}, \"xaxis\": {\"automargin\": true, \"gridcolor\": \"white\", \"linecolor\": \"white\", \"ticks\": \"\", \"title\": {\"standoff\": 15}, \"zerolinecolor\": \"white\", \"zerolinewidth\": 2}, \"yaxis\": {\"automargin\": true, \"gridcolor\": \"white\", \"linecolor\": \"white\", \"ticks\": \"\", \"title\": {\"standoff\": 15}, \"zerolinecolor\": \"white\", \"zerolinewidth\": 2}}}, \"title\": {\"text\": \"Ethnicity Model sigmoid mean_squared_error\"}, \"xaxis\": {\"anchor\": \"y\", \"domain\": [0.0, 1.0]}, \"yaxis\": {\"anchor\": \"x\", \"domain\": [0.0, 1.0], \"title\": {\"text\": \"y\"}}},\n",
              "                        {\"responsive\": true}\n",
              "                    ).then(function(){\n",
              "                            \n",
              "var gd = document.getElementById('6cf4599a-a6e1-4b5b-9251-d354b4b34927');\n",
              "var x = new MutationObserver(function (mutations, observer) {{\n",
              "        var display = window.getComputedStyle(gd).display;\n",
              "        if (!display || display === 'none') {{\n",
              "            console.log([gd, 'removed!']);\n",
              "            Plotly.purge(gd);\n",
              "            observer.disconnect();\n",
              "        }}\n",
              "}});\n",
              "\n",
              "// Listen for the removal of the full notebook cells\n",
              "var notebookContainer = gd.closest('#notebook-container');\n",
              "if (notebookContainer) {{\n",
              "    x.observe(notebookContainer, {childList: true});\n",
              "}}\n",
              "\n",
              "// Listen for the clearing of the current output cell\n",
              "var outputEl = gd.closest('.output');\n",
              "if (outputEl) {{\n",
              "    x.observe(outputEl, {childList: true});\n",
              "}}\n",
              "\n",
              "                        })\n",
              "                };\n",
              "                \n",
              "            </script>\n",
              "        </div>\n",
              "</body>\n",
              "</html>"
            ]
          },
          "metadata": {}
        },
        {
          "output_type": "stream",
          "name": "stdout",
          "text": [
            "223/223 [==============================] - 1s 4ms/step - loss: 1.9010 - accuracy: 0.4180\n"
          ]
        }
      ],
      "source": [
        "ethnicity_model = build_model(5, activation='sigmoid', loss='mean_squared_error')\n",
        "\n",
        "ethnicity_history = ethnicity_model.fit(\n",
        "    X_ethnicity_train,\n",
        "    y_ethnicity_train,\n",
        "    validation_split=0.2,\n",
        "    batch_size=5000,\n",
        "    epochs=50,\n",
        "    callbacks=[tf.keras.callbacks.ReduceLROnPlateau()],\n",
        "    verbose=0\n",
        ")\n",
        "fig = px.line(\n",
        "    ethnicity_history.history,\n",
        "    y=['loss', 'val_loss'],\n",
        "    labels={'index': \"Epoch\", 'value': \"Loss\"},\n",
        "    title=\"Ethnicity Model sigmoid mean_squared_error\"\n",
        ")\n",
        "\n",
        "fig.show()\n",
        "ethnicity_acc = ethnicity_model.evaluate(X_ethnicity_test, y_ethnicity_test)[1]"
      ]
    },
    {
      "cell_type": "markdown",
      "id": "regular-typing",
      "metadata": {
        "id": "regular-typing"
      },
      "source": [
        "## Activation: softmax, Loss: mean_squared_error"
      ]
    },
    {
      "cell_type": "code",
      "execution_count": 22,
      "id": "welsh-analysis",
      "metadata": {
        "colab": {
          "base_uri": "https://localhost:8080/",
          "height": 282
        },
        "id": "welsh-analysis",
        "outputId": "b0ba11b1-b745-41f7-86ac-f0a0a0d21db8"
      },
      "outputs": [
        {
          "output_type": "stream",
          "name": "stdout",
          "text": [
            "223/223 [==============================] - 1s 4ms/step - loss: 3.0000 - accuracy: 0.2407\n"
          ]
        },
        {
          "output_type": "display_data",
          "data": {
            "image/png": "[encoded data removed]",
            "text/plain": [
              "<Figure size 432x288 with 1 Axes>"
            ]
          },
          "metadata": {
            "needs_background": "light"
          }
        }
      ],
      "source": [
        "ethnicity_model = build_model(5, activation='softmax', loss='mean_squared_error')\n",
        "\n",
        "ethnicity_history = ethnicity_model.fit(\n",
        "    X_ethnicity_train,\n",
        "    y_ethnicity_train,\n",
        "    validation_split=0.2,\n",
        "    batch_size=5000,\n",
        "    epochs=50,\n",
        "    callbacks=[tf.keras.callbacks.ReduceLROnPlateau()],\n",
        "    verbose=0\n",
        ")\n",
        "\n",
        "x = np.linspace(0, 50, 50)\n",
        "plt.plot(x, ethnicity_history.history['loss'])\n",
        "plt.plot(x, ethnicity_history.history['val_loss'])\n",
        "\n",
        "ethnicity_acc = ethnicity_model.evaluate(X_ethnicity_test, y_ethnicity_test)[1]"
      ]
    },
    {
      "cell_type": "markdown",
      "id": "brave-boutique",
      "metadata": {
        "id": "brave-boutique"
      },
      "source": [
        "## Activation: relu, Loss: mean_squared_error"
      ]
    },
    {
      "cell_type": "code",
      "execution_count": 23,
      "id": "informative-somewhere",
      "metadata": {
        "scrolled": true,
        "colab": {
          "base_uri": "https://localhost:8080/",
          "height": 282
        },
        "id": "informative-somewhere",
        "outputId": "424f0444-d1af-4d95-b723-ddefe55ff5a7"
      },
      "outputs": [
        {
          "output_type": "stream",
          "name": "stdout",
          "text": [
            "223/223 [==============================] - 1s 5ms/step - loss: 2.1951 - accuracy: 0.1443\n"
          ]
        },
        {
          "output_type": "display_data",
          "data": {
            "image/png": "[encoded data removed]",
            "text/plain": [
              "<Figure size 432x288 with 1 Axes>"
            ]
          },
          "metadata": {
            "needs_background": "light"
          }
        }
      ],
      "source": [
        "ethnicity_model = build_model(5, activation='relu', loss='mean_squared_error')\n",
        "\n",
        "ethnicity_history = ethnicity_model.fit(\n",
        "    X_ethnicity_train,\n",
        "    y_ethnicity_train,\n",
        "    validation_split=0.2,\n",
        "    batch_size=5000,\n",
        "    epochs=50,\n",
        "    callbacks=[tf.keras.callbacks.ReduceLROnPlateau()],\n",
        "    verbose=0\n",
        ")\n",
        "\n",
        "x = np.linspace(0, 50, 50)\n",
        "plt.plot(x, ethnicity_history.history['loss'])\n",
        "plt.plot(x, ethnicity_history.history['val_loss'])\n",
        "\n",
        "ethnicity_acc = ethnicity_model.evaluate(X_ethnicity_test, y_ethnicity_test)[1]"
      ]
    },
    {
      "cell_type": "code",
      "execution_count": 24,
      "id": "moderate-jefferson",
      "metadata": {
        "id": "moderate-jefferson"
      },
      "outputs": [],
      "source": [
        "## Ethnicity Training Fix Loss: mean_squared_logarithmic_error"
      ]
    },
    {
      "cell_type": "code",
      "execution_count": 25,
      "id": "rising-comedy",
      "metadata": {
        "id": "rising-comedy"
      },
      "outputs": [],
      "source": [
        "## Activation: sigmoid, Loss: mean_squared_logarithmic_error"
      ]
    },
    {
      "cell_type": "code",
      "execution_count": 26,
      "id": "signed-manitoba",
      "metadata": {
        "colab": {
          "base_uri": "https://localhost:8080/",
          "height": 282
        },
        "id": "signed-manitoba",
        "outputId": "c227b490-a0fb-4d24-a985-18f15a47b453"
      },
      "outputs": [
        {
          "output_type": "stream",
          "name": "stdout",
          "text": [
            "223/223 [==============================] - 1s 5ms/step - loss: 0.3678 - accuracy: 0.4251\n"
          ]
        },
        {
          "output_type": "display_data",
          "data": {
            "image/png": "[encoded data removed]",
            "text/plain": [
              "<Figure size 432x288 with 1 Axes>"
            ]
          },
          "metadata": {
            "needs_background": "light"
          }
        }
      ],
      "source": [
        "ethnicity_model = build_model(5, activation='sigmoid', loss='mean_squared_logarithmic_error')\n",
        "\n",
        "ethnicity_history = ethnicity_model.fit(\n",
        "    X_ethnicity_train,\n",
        "    y_ethnicity_train,\n",
        "    validation_split=0.2,\n",
        "    batch_size=5000,\n",
        "    epochs=50,\n",
        "    callbacks=[tf.keras.callbacks.ReduceLROnPlateau()],\n",
        "    verbose=0\n",
        ")\n",
        "\n",
        "x = np.linspace(0, 50, 50)\n",
        "plt.plot(x, ethnicity_history.history['loss'])\n",
        "plt.plot(x, ethnicity_history.history['val_loss'])\n",
        "\n",
        "ethnicity_acc = ethnicity_model.evaluate(X_ethnicity_test, y_ethnicity_test)[1]"
      ]
    },
    {
      "cell_type": "code",
      "execution_count": 27,
      "id": "modified-twelve",
      "metadata": {
        "id": "modified-twelve"
      },
      "outputs": [],
      "source": [
        "## Activation: softmax, Loss: mean_squared_logarithmic_error"
      ]
    },
    {
      "cell_type": "code",
      "execution_count": 28,
      "id": "worth-factor",
      "metadata": {
        "colab": {
          "base_uri": "https://localhost:8080/",
          "height": 282
        },
        "id": "worth-factor",
        "outputId": "1f4ac918-c883-48f9-fce1-3ce9d128662a"
      },
      "outputs": [
        {
          "output_type": "stream",
          "name": "stdout",
          "text": [
            "223/223 [==============================] - 1s 5ms/step - loss: 0.5819 - accuracy: 0.1686\n"
          ]
        },
        {
          "output_type": "display_data",
          "data": {
            "image/png": "[encoded data removed]",
            "text/plain": [
              "<Figure size 432x288 with 1 Axes>"
            ]
          },
          "metadata": {
            "needs_background": "light"
          }
        }
      ],
      "source": [
        "ethnicity_model = build_model(5, activation='softmax', loss='mean_squared_logarithmic_error')\n",
        "\n",
        "ethnicity_history = ethnicity_model.fit(\n",
        "    X_ethnicity_train,\n",
        "    y_ethnicity_train,\n",
        "    validation_split=0.2,\n",
        "    batch_size=5000,\n",
        "    epochs=50,\n",
        "    callbacks=[tf.keras.callbacks.ReduceLROnPlateau()],\n",
        "    verbose=0\n",
        ")\n",
        "\n",
        "x = np.linspace(0, 50, 50)\n",
        "plt.plot(x, ethnicity_history.history['loss'])\n",
        "plt.plot(x, ethnicity_history.history['val_loss'])\n",
        "\n",
        "ethnicity_acc = ethnicity_model.evaluate(X_ethnicity_test, y_ethnicity_test)[1]"
      ]
    },
    {
      "cell_type": "code",
      "execution_count": 29,
      "id": "crucial-consumer",
      "metadata": {
        "id": "crucial-consumer"
      },
      "outputs": [],
      "source": [
        "## Activation: relu, Loss: mean_squared_logarithmic_error"
      ]
    },
    {
      "cell_type": "code",
      "execution_count": 30,
      "id": "neither-harris",
      "metadata": {
        "colab": {
          "base_uri": "https://localhost:8080/",
          "height": 282
        },
        "id": "neither-harris",
        "outputId": "b369a4f0-9104-4ba0-bdce-d30ed3db66d6"
      },
      "outputs": [
        {
          "output_type": "stream",
          "name": "stdout",
          "text": [
            "223/223 [==============================] - 1s 5ms/step - loss: 0.2586 - accuracy: 0.2406\n"
          ]
        },
        {
          "output_type": "display_data",
          "data": {
            "image/png": "[encoded data removed]",
            "text/plain": [
              "<Figure size 432x288 with 1 Axes>"
            ]
          },
          "metadata": {
            "needs_background": "light"
          }
        }
      ],
      "source": [
        "ethnicity_model = build_model(5, activation='relu', loss='mean_squared_logarithmic_error')\n",
        "\n",
        "ethnicity_history = ethnicity_model.fit(\n",
        "    X_ethnicity_train,\n",
        "    y_ethnicity_train,\n",
        "    validation_split=0.2,\n",
        "    batch_size=5000,\n",
        "    epochs=50,\n",
        "    callbacks=[tf.keras.callbacks.ReduceLROnPlateau()],\n",
        "    verbose=0\n",
        ")\n",
        "\n",
        "x = np.linspace(0, 50, 50)\n",
        "plt.plot(x, ethnicity_history.history['loss'])\n",
        "plt.plot(x, ethnicity_history.history['val_loss'])\n",
        "\n",
        "ethnicity_acc = ethnicity_model.evaluate(X_ethnicity_test, y_ethnicity_test)[1]"
      ]
    },
    {
      "cell_type": "code",
      "execution_count": 31,
      "id": "respected-carolina",
      "metadata": {
        "id": "respected-carolina"
      },
      "outputs": [],
      "source": [
        "## Ethnicity Training Fix Loss: mean_absolute_error"
      ]
    },
    {
      "cell_type": "code",
      "execution_count": 32,
      "id": "positive-frequency",
      "metadata": {
        "id": "positive-frequency"
      },
      "outputs": [],
      "source": [
        "## Activation: sigmoid, Loss: mean_absolute_error"
      ]
    },
    {
      "cell_type": "code",
      "execution_count": 33,
      "id": "enabling-advantage",
      "metadata": {
        "colab": {
          "base_uri": "https://localhost:8080/",
          "height": 282
        },
        "id": "enabling-advantage",
        "outputId": "9be219e3-f4d8-4db7-f247-fd11f61d0c42"
      },
      "outputs": [
        {
          "output_type": "stream",
          "name": "stdout",
          "text": [
            "223/223 [==============================] - 1s 4ms/step - loss: 1.1229 - accuracy: 0.4180\n"
          ]
        },
        {
          "output_type": "display_data",
          "data": {
            "image/png": "[encoded data removed]",
            "text/plain": [
              "<Figure size 432x288 with 1 Axes>"
            ]
          },
          "metadata": {
            "needs_background": "light"
          }
        }
      ],
      "source": [
        "ethnicity_model = build_model(5, activation='sigmoid', loss='mean_absolute_error')\n",
        "\n",
        "ethnicity_history = ethnicity_model.fit(\n",
        "    X_ethnicity_train,\n",
        "    y_ethnicity_train,\n",
        "    validation_split=0.2,\n",
        "    batch_size=5000,\n",
        "    epochs=50,\n",
        "    callbacks=[tf.keras.callbacks.ReduceLROnPlateau()],\n",
        "    verbose=0\n",
        ")\n",
        "\n",
        "x = np.linspace(0, 50, 50)\n",
        "plt.plot(x, ethnicity_history.history['loss'])\n",
        "plt.plot(x, ethnicity_history.history['val_loss'])\n",
        "\n",
        "ethnicity_acc = ethnicity_model.evaluate(X_ethnicity_test, y_ethnicity_test)[1]"
      ]
    },
    {
      "cell_type": "code",
      "execution_count": 34,
      "id": "ultimate-graham",
      "metadata": {
        "id": "ultimate-graham"
      },
      "outputs": [],
      "source": [
        "## Activation: softmax, Loss: mean_absolute_error"
      ]
    },
    {
      "cell_type": "code",
      "execution_count": 35,
      "id": "moral-throat",
      "metadata": {
        "colab": {
          "base_uri": "https://localhost:8080/",
          "height": 282
        },
        "id": "moral-throat",
        "outputId": "12559ab3-6ab2-473b-89ec-856d0a4fe143"
      },
      "outputs": [
        {
          "output_type": "stream",
          "name": "stdout",
          "text": [
            "223/223 [==============================] - 1s 4ms/step - loss: 1.2540 - accuracy: 0.1638\n"
          ]
        },
        {
          "output_type": "display_data",
          "data": {
            "image/png": "[encoded data removed]",
            "text/plain": [
              "<Figure size 432x288 with 1 Axes>"
            ]
          },
          "metadata": {
            "needs_background": "light"
          }
        }
      ],
      "source": [
        "ethnicity_model = build_model(5, activation='softmax', loss='mean_absolute_error')\n",
        "\n",
        "ethnicity_history = ethnicity_model.fit(\n",
        "    X_ethnicity_train,\n",
        "    y_ethnicity_train,\n",
        "    validation_split=0.2,\n",
        "    batch_size=5000,\n",
        "    epochs=50,\n",
        "    callbacks=[tf.keras.callbacks.ReduceLROnPlateau()],\n",
        "    verbose=0\n",
        ")\n",
        "\n",
        "x = np.linspace(0, 50, 50)\n",
        "plt.plot(x, ethnicity_history.history['loss'])\n",
        "plt.plot(x, ethnicity_history.history['val_loss'])\n",
        "\n",
        "ethnicity_acc = ethnicity_model.evaluate(X_ethnicity_test, y_ethnicity_test)[1]"
      ]
    },
    {
      "cell_type": "code",
      "execution_count": 36,
      "id": "hollywood-repeat",
      "metadata": {
        "id": "hollywood-repeat"
      },
      "outputs": [],
      "source": [
        "## Activation: relu, Loss: mean_absolute_error"
      ]
    },
    {
      "cell_type": "code",
      "execution_count": 37,
      "id": "involved-lesbian",
      "metadata": {
        "colab": {
          "base_uri": "https://localhost:8080/",
          "height": 285
        },
        "id": "involved-lesbian",
        "outputId": "2db221a6-a4c0-4bd5-a061-f37a28aff21a"
      },
      "outputs": [
        {
          "output_type": "stream",
          "name": "stdout",
          "text": [
            "223/223 [==============================] - 1s 5ms/step - loss: 0.9128 - accuracy: 0.3280\n"
          ]
        },
        {
          "output_type": "display_data",
          "data": {
            "image/png": "[encoded data removed]",
            "text/plain": [
              "<Figure size 432x288 with 1 Axes>"
            ]
          },
          "metadata": {
            "needs_background": "light"
          }
        }
      ],
      "source": [
        "ethnicity_model = build_model(5, activation='relu', loss='mean_absolute_error')\n",
        "\n",
        "ethnicity_history = ethnicity_model.fit(\n",
        "    X_ethnicity_train,\n",
        "    y_ethnicity_train,\n",
        "    validation_split=0.2,\n",
        "    batch_size=5000,\n",
        "    epochs=50,\n",
        "    callbacks=[tf.keras.callbacks.ReduceLROnPlateau()],\n",
        "    verbose=0\n",
        ")\n",
        "\n",
        "x = np.linspace(0, 50, 50)\n",
        "plt.plot(x, ethnicity_history.history['loss'])\n",
        "plt.plot(x, ethnicity_history.history['val_loss'])\n",
        "\n",
        "ethnicity_acc = ethnicity_model.evaluate(X_ethnicity_test, y_ethnicity_test)[1]"
      ]
    },
    {
      "cell_type": "code",
      "execution_count": 38,
      "id": "proved-pacific",
      "metadata": {
        "id": "proved-pacific"
      },
      "outputs": [],
      "source": [
        "## Ethnicity Training Fix Loss: categorical_hinge"
      ]
    },
    {
      "cell_type": "code",
      "execution_count": 39,
      "id": "demanding-burner",
      "metadata": {
        "id": "demanding-burner"
      },
      "outputs": [],
      "source": [
        "## Activation: sigmoid, Loss: categorical_hinge"
      ]
    },
    {
      "cell_type": "code",
      "execution_count": 40,
      "id": "meaningful-vintage",
      "metadata": {
        "colab": {
          "base_uri": "https://localhost:8080/",
          "height": 282
        },
        "id": "meaningful-vintage",
        "outputId": "9953a83e-f167-4ff6-aad0-2eed28e8cf12"
      },
      "outputs": [
        {
          "output_type": "stream",
          "name": "stdout",
          "text": [
            "223/223 [==============================] - 1s 5ms/step - loss: 0.4899 - accuracy: 0.1623\n"
          ]
        },
        {
          "output_type": "display_data",
          "data": {
            "image/png": "[encoded data removed]",
            "text/plain": [
              "<Figure size 432x288 with 1 Axes>"
            ]
          },
          "metadata": {
            "needs_background": "light"
          }
        }
      ],
      "source": [
        "ethnicity_model = build_model(5, activation='sigmoid', loss='categorical_hinge')\n",
        "\n",
        "ethnicity_history = ethnicity_model.fit(\n",
        "    X_ethnicity_train,\n",
        "    y_ethnicity_train,\n",
        "    validation_split=0.2,\n",
        "    batch_size=5000,\n",
        "    epochs=50,\n",
        "    callbacks=[tf.keras.callbacks.ReduceLROnPlateau()],\n",
        "    verbose=0\n",
        ")\n",
        "\n",
        "x = np.linspace(0, 50, 50)\n",
        "plt.plot(x, ethnicity_history.history['loss'])\n",
        "plt.plot(x, ethnicity_history.history['val_loss'])\n",
        "\n",
        "ethnicity_acc = ethnicity_model.evaluate(X_ethnicity_test, y_ethnicity_test)[1]"
      ]
    },
    {
      "cell_type": "code",
      "execution_count": 41,
      "id": "acting-lodging",
      "metadata": {
        "id": "acting-lodging"
      },
      "outputs": [],
      "source": [
        "## Activation: softmax, Loss: categorical_hinge"
      ]
    },
    {
      "cell_type": "code",
      "execution_count": 42,
      "id": "domestic-senate",
      "metadata": {
        "colab": {
          "base_uri": "https://localhost:8080/",
          "height": 286
        },
        "id": "domestic-senate",
        "outputId": "a9a84e3b-9e44-4624-c2c9-6a0697e88687"
      },
      "outputs": [
        {
          "output_type": "stream",
          "name": "stdout",
          "text": [
            "223/223 [==============================] - 1s 5ms/step - loss: 0.5016 - accuracy: 0.2237\n"
          ]
        },
        {
          "output_type": "display_data",
          "data": {
            "image/png": "[encoded data removed]",
            "text/plain": [
              "<Figure size 432x288 with 1 Axes>"
            ]
          },
          "metadata": {
            "needs_background": "light"
          }
        }
      ],
      "source": [
        "ethnicity_model = build_model(5, activation='softmax', loss='categorical_hinge')\n",
        "\n",
        "ethnicity_history = ethnicity_model.fit(\n",
        "    X_ethnicity_train,\n",
        "    y_ethnicity_train,\n",
        "    validation_split=0.2,\n",
        "    batch_size=5000,\n",
        "    epochs=50,\n",
        "    callbacks=[tf.keras.callbacks.ReduceLROnPlateau()],\n",
        "    verbose=0\n",
        ")\n",
        "\n",
        "x = np.linspace(0, 50, 50)\n",
        "plt.plot(x, ethnicity_history.history['loss'])\n",
        "plt.plot(x, ethnicity_history.history['val_loss'])\n",
        "\n",
        "ethnicity_acc = ethnicity_model.evaluate(X_ethnicity_test, y_ethnicity_test)[1]"
      ]
    },
    {
      "cell_type": "code",
      "execution_count": 43,
      "id": "timely-disaster",
      "metadata": {
        "id": "timely-disaster"
      },
      "outputs": [],
      "source": [
        "## Activation: relu, Loss: categorical_hinge"
      ]
    },
    {
      "cell_type": "code",
      "execution_count": 44,
      "id": "textile-possible",
      "metadata": {
        "colab": {
          "base_uri": "https://localhost:8080/",
          "height": 282
        },
        "id": "textile-possible",
        "outputId": "9eae5bb7-18f8-4aad-9631-f219366e6824"
      },
      "outputs": [
        {
          "output_type": "stream",
          "name": "stdout",
          "text": [
            "223/223 [==============================] - 1s 4ms/step - loss: 0.4937 - accuracy: 0.1150\n"
          ]
        },
        {
          "output_type": "display_data",
          "data": {
            "image/png": "[encoded data removed]",
            "text/plain": [
              "<Figure size 432x288 with 1 Axes>"
            ]
          },
          "metadata": {
            "needs_background": "light"
          }
        }
      ],
      "source": [
        "ethnicity_model = build_model(5, activation='relu', loss='categorical_hinge')\n",
        "\n",
        "ethnicity_history = ethnicity_model.fit(\n",
        "    X_ethnicity_train,\n",
        "    y_ethnicity_train,\n",
        "    validation_split=0.2,\n",
        "    batch_size=5000,\n",
        "    epochs=50,\n",
        "    callbacks=[tf.keras.callbacks.ReduceLROnPlateau()],\n",
        "    verbose=0\n",
        ")\n",
        "\n",
        "x = np.linspace(0, 50, 50)\n",
        "plt.plot(x, ethnicity_history.history['loss'])\n",
        "plt.plot(x, ethnicity_history.history['val_loss'])\n",
        "\n",
        "ethnicity_acc = ethnicity_model.evaluate(X_ethnicity_test, y_ethnicity_test)[1]"
      ]
    },
    {
      "cell_type": "code",
      "execution_count": 45,
      "id": "undefined-cookbook",
      "metadata": {
        "id": "undefined-cookbook"
      },
      "outputs": [],
      "source": [
        "## Ethnicity Training Fix Loss: logcosh"
      ]
    },
    {
      "cell_type": "code",
      "execution_count": 46,
      "id": "accompanied-reporter",
      "metadata": {
        "id": "accompanied-reporter"
      },
      "outputs": [],
      "source": [
        "## Activation: sigmoid, Loss: logcosh"
      ]
    },
    {
      "cell_type": "code",
      "execution_count": 47,
      "id": "broke-prompt",
      "metadata": {
        "colab": {
          "base_uri": "https://localhost:8080/",
          "height": 285
        },
        "id": "broke-prompt",
        "outputId": "1ed11e20-2f29-4228-c86b-5f4fbd127ae5"
      },
      "outputs": [
        {
          "output_type": "stream",
          "name": "stdout",
          "text": [
            "223/223 [==============================] - 1s 5ms/step - loss: 0.6386 - accuracy: 0.4177\n"
          ]
        },
        {
          "output_type": "display_data",
          "data": {
            "image/png": "[encoded data removed]",
            "text/plain": [
              "<Figure size 432x288 with 1 Axes>"
            ]
          },
          "metadata": {
            "needs_background": "light"
          }
        }
      ],
      "source": [
        "ethnicity_model = build_model(5, activation='sigmoid', loss='logcosh')\n",
        "\n",
        "ethnicity_history = ethnicity_model.fit(\n",
        "    X_ethnicity_train,\n",
        "    y_ethnicity_train,\n",
        "    validation_split=0.2,\n",
        "    batch_size=5000,\n",
        "    epochs=50,\n",
        "    callbacks=[tf.keras.callbacks.ReduceLROnPlateau()],\n",
        "    verbose=0\n",
        ")\n",
        "\n",
        "x = np.linspace(0, 50, 50)\n",
        "plt.plot(x, ethnicity_history.history['loss'])\n",
        "plt.plot(x, ethnicity_history.history['val_loss'])\n",
        "\n",
        "ethnicity_acc = ethnicity_model.evaluate(X_ethnicity_test, y_ethnicity_test)[1]"
      ]
    },
    {
      "cell_type": "code",
      "execution_count": 48,
      "id": "senior-function",
      "metadata": {
        "id": "senior-function"
      },
      "outputs": [],
      "source": [
        "## Activation: softmax, Loss: logcosh"
      ]
    },
    {
      "cell_type": "code",
      "execution_count": 49,
      "id": "frank-holocaust",
      "metadata": {
        "colab": {
          "base_uri": "https://localhost:8080/",
          "height": 284
        },
        "id": "frank-holocaust",
        "outputId": "3d103e21-0731-4834-c945-cca68122a01e"
      },
      "outputs": [
        {
          "output_type": "stream",
          "name": "stdout",
          "text": [
            "223/223 [==============================] - 1s 5ms/step - loss: 0.8155 - accuracy: 0.1919\n"
          ]
        },
        {
          "output_type": "display_data",
          "data": {
            "image/png": "[encoded data removed]",
            "text/plain": [
              "<Figure size 432x288 with 1 Axes>"
            ]
          },
          "metadata": {
            "needs_background": "light"
          }
        }
      ],
      "source": [
        "ethnicity_model = build_model(5, activation='softmax', loss='logcosh')\n",
        "\n",
        "ethnicity_history = ethnicity_model.fit(\n",
        "    X_ethnicity_train,\n",
        "    y_ethnicity_train,\n",
        "    validation_split=0.2,\n",
        "    batch_size=5000,\n",
        "    epochs=50,\n",
        "    callbacks=[tf.keras.callbacks.ReduceLROnPlateau()],\n",
        "    verbose=0\n",
        ")\n",
        "\n",
        "x = np.linspace(0, 50, 50)\n",
        "plt.plot(x, ethnicity_history.history['loss'])\n",
        "plt.plot(x, ethnicity_history.history['val_loss'])\n",
        "\n",
        "ethnicity_acc = ethnicity_model.evaluate(X_ethnicity_test, y_ethnicity_test)[1]"
      ]
    },
    {
      "cell_type": "code",
      "execution_count": 50,
      "id": "fluid-assembly",
      "metadata": {
        "id": "fluid-assembly"
      },
      "outputs": [],
      "source": [
        "## Activation: relu, Loss: logcosh"
      ]
    },
    {
      "cell_type": "code",
      "execution_count": 51,
      "id": "serious-contemporary",
      "metadata": {
        "colab": {
          "base_uri": "https://localhost:8080/",
          "height": 282
        },
        "id": "serious-contemporary",
        "outputId": "8aeaf775-23c2-4d3d-939b-56cd722ed271"
      },
      "outputs": [
        {
          "output_type": "stream",
          "name": "stdout",
          "text": [
            "223/223 [==============================] - 1s 4ms/step - loss: 0.4535 - accuracy: 0.1905\n"
          ]
        },
        {
          "output_type": "display_data",
          "data": {
            "image/png": "[encoded data removed]",
            "text/plain": [
              "<Figure size 432x288 with 1 Axes>"
            ]
          },
          "metadata": {
            "needs_background": "light"
          }
        }
      ],
      "source": [
        "ethnicity_model = build_model(5, activation='relu', loss='logcosh')\n",
        "\n",
        "ethnicity_history = ethnicity_model.fit(\n",
        "    X_ethnicity_train,\n",
        "    y_ethnicity_train,\n",
        "    validation_split=0.2,\n",
        "    batch_size=5000,\n",
        "    epochs=50,\n",
        "    callbacks=[tf.keras.callbacks.ReduceLROnPlateau()],\n",
        "    verbose=0\n",
        ")\n",
        "\n",
        "x = np.linspace(0, 50, 50)\n",
        "plt.plot(x, ethnicity_history.history['loss'])\n",
        "plt.plot(x, ethnicity_history.history['val_loss'])\n",
        "\n",
        "ethnicity_acc = ethnicity_model.evaluate(X_ethnicity_test, y_ethnicity_test)[1]"
      ]
    }
  ],
  "metadata": {
    "kernelspec": {
      "display_name": "Python 3",
      "language": "python",
      "name": "python3"
    },
    "language_info": {
      "codemirror_mode": {
        "name": "ipython",
        "version": 3
      },
      "file_extension": ".py",
      "mimetype": "text/x-python",
      "name": "python",
      "nbconvert_exporter": "python",
      "pygments_lexer": "ipython3",
      "version": "3.8.6"
    },
    "colab": {
      "name": "DLProjectEthnicity-New.ipynb",
      "provenance": []
    },
    "accelerator": "GPU"
  },
  "nbformat": 4,
  "nbformat_minor": 5
}