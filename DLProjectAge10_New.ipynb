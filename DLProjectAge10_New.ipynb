{
  "cells": [
    {
      "cell_type": "code",
      "execution_count": 4,
      "id": "assisted-breathing",
      "metadata": {
        "id": "assisted-breathing"
      },
      "outputs": [],
      "source": [
        "import numpy as np\n",
        "import pandas as pd\n",
        "import matplotlib.pyplot as plt\n",
        "import plotly.express as px\n",
        "\n",
        "from sklearn.model_selection import train_test_split\n",
        "\n",
        "import tensorflow as tf"
      ]
    },
    {
      "cell_type": "markdown",
      "id": "hearing-inside",
      "metadata": {
        "id": "hearing-inside"
      },
      "source": [
        "# READ DATA"
      ]
    },
    {
      "cell_type": "code",
      "source": [
        "from google.colab import drive\n",
        "drive.mount('/content/drive')"
      ],
      "metadata": {
        "colab": {
          "base_uri": "https://localhost:8080/",
          "height": 0
        },
        "id": "MgSfSYtKpVEk",
        "outputId": "d6a6a635-dd92-4496-da0c-e16b81372a7b"
      },
      "id": "MgSfSYtKpVEk",
      "execution_count": 5,
      "outputs": [
        {
          "output_type": "stream",
          "name": "stdout",
          "text": [
            "Drive already mounted at /content/drive; to attempt to forcibly remount, call drive.mount(\"/content/drive\", force_remount=True).\n"
          ]
        }
      ]
    },
    {
      "cell_type": "code",
      "execution_count": 6,
      "id": "senior-thumb",
      "metadata": {
        "id": "senior-thumb"
      },
      "outputs": [],
      "source": [
        "data = pd.read_csv('/content/drive/MyDrive/Colab Notebooks/age_gender.csv')"
      ]
    },
    {
      "cell_type": "markdown",
      "id": "vietnamese-queue",
      "metadata": {
        "id": "vietnamese-queue"
      },
      "source": [
        "# DATA PROCESSING"
      ]
    },
    {
      "cell_type": "code",
      "execution_count": 7,
      "id": "studied-mapping",
      "metadata": {
        "id": "studied-mapping"
      },
      "outputs": [],
      "source": [
        "data = data.drop('img_name', axis=1)"
      ]
    },
    {
      "cell_type": "code",
      "execution_count": 8,
      "id": "joined-contribution",
      "metadata": {
        "id": "joined-contribution"
      },
      "outputs": [],
      "source": [
        "data['age'] = pd.qcut(data['age'], q=10, labels=[0, 1, 2, 3,4,5,6,7,8,9])"
      ]
    },
    {
      "cell_type": "code",
      "execution_count": 9,
      "id": "republican-discovery",
      "metadata": {
        "colab": {
          "base_uri": "https://localhost:8080/",
          "height": 0
        },
        "id": "republican-discovery",
        "outputId": "313ab188-119f-48c6-dc84-ce1e6bf957c7"
      },
      "outputs": [
        {
          "output_type": "execute_result",
          "data": {
            "text/plain": [
              "48.0"
            ]
          },
          "metadata": {},
          "execution_count": 9
        }
      ],
      "source": [
        "np.sqrt(len(data['pixels'][0].split(' ')))"
      ]
    },
    {
      "cell_type": "code",
      "execution_count": 10,
      "id": "comic-parade",
      "metadata": {
        "id": "comic-parade"
      },
      "outputs": [],
      "source": [
        "num_pixels = 2304\n",
        "img_height = 48\n",
        "img_width = 48"
      ]
    },
    {
      "cell_type": "code",
      "execution_count": 11,
      "id": "thirty-mayor",
      "metadata": {
        "id": "thirty-mayor"
      },
      "outputs": [],
      "source": [
        "target_columns = ['gender', 'ethnicity', 'age']\n",
        "\n",
        "y = data[target_columns]\n",
        "X = data.drop(target_columns, axis=1)"
      ]
    },
    {
      "cell_type": "markdown",
      "id": "seeing-purple",
      "metadata": {
        "id": "seeing-purple"
      },
      "source": [
        "# RESHAPE X"
      ]
    },
    {
      "cell_type": "code",
      "execution_count": 12,
      "id": "contrary-savage",
      "metadata": {
        "id": "contrary-savage"
      },
      "outputs": [],
      "source": [
        "X = data['pixels'].str.split(' ', expand=True)"
      ]
    },
    {
      "cell_type": "code",
      "execution_count": 13,
      "id": "compound-candy",
      "metadata": {
        "id": "compound-candy"
      },
      "outputs": [],
      "source": [
        "X = np.array(X).astype(int)\n",
        "X = np.array([a.reshape(48, 48) for a in X])"
      ]
    },
    {
      "cell_type": "code",
      "execution_count": 14,
      "id": "coated-simpson",
      "metadata": {
        "colab": {
          "base_uri": "https://localhost:8080/",
          "height": 0
        },
        "id": "coated-simpson",
        "outputId": "fb1a7f03-418e-4728-958b-f77a30ab1894"
      },
      "outputs": [
        {
          "output_type": "execute_result",
          "data": {
            "text/plain": [
              "(23705, 48, 48)"
            ]
          },
          "metadata": {},
          "execution_count": 14
        }
      ],
      "source": [
        "X.shape"
      ]
    },
    {
      "cell_type": "markdown",
      "id": "enabling-concentration",
      "metadata": {
        "id": "enabling-concentration"
      },
      "source": [
        "# Training"
      ]
    },
    {
      "cell_type": "code",
      "execution_count": 15,
      "id": "impressive-fifteen",
      "metadata": {
        "id": "impressive-fifteen"
      },
      "outputs": [],
      "source": [
        "y_gender = np.array(y['gender'])\n",
        "y_ethnicity = np.array(y['ethnicity'])\n",
        "y_age = np.array(y['age'])"
      ]
    },
    {
      "cell_type": "code",
      "execution_count": 16,
      "id": "comfortable-thailand",
      "metadata": {
        "colab": {
          "base_uri": "https://localhost:8080/",
          "height": 0
        },
        "id": "comfortable-thailand",
        "outputId": "34f91549-e0a7-496e-f953-814efbdfb074"
      },
      "outputs": [
        {
          "output_type": "execute_result",
          "data": {
            "text/plain": [
              "23705"
            ]
          },
          "metadata": {},
          "execution_count": 16
        }
      ],
      "source": [
        "len(y_ethnicity)"
      ]
    },
    {
      "cell_type": "markdown",
      "id": "cooked-gentleman",
      "metadata": {
        "id": "cooked-gentleman"
      },
      "source": [
        "## Model Def"
      ]
    },
    {
      "cell_type": "code",
      "execution_count": 17,
      "id": "mineral-button",
      "metadata": {
        "id": "mineral-button"
      },
      "outputs": [],
      "source": [
        "def build_model(num_classes, activation, loss):\n",
        "    \n",
        "    inputs = tf.keras.Input(shape=(img_height, img_width, 1))\n",
        "    x = tf.keras.layers.experimental.preprocessing.Rescaling(1./255)(inputs)\n",
        "    x = tf.keras.layers.Conv2D(16, 3, padding='same', activation='relu')(x)\n",
        "    x = tf.keras.layers.MaxPooling2D()(x)\n",
        "    x = tf.keras.layers.Conv2D(32, 3, padding='same', activation='relu')(x)\n",
        "    x = tf.keras.layers.MaxPooling2D()(x)\n",
        "    x = tf.keras.layers.Conv2D(64, 3, padding='same', activation='relu')(x)\n",
        "    x = tf.keras.layers.MaxPooling2D()(x)\n",
        "    x = tf.keras.layers.Flatten()(x)\n",
        "    x = tf.keras.layers.Dense(128, activation='relu')(x)\n",
        "    outputs = tf.keras.layers.Dense(num_classes, activation=activation)(x)\n",
        "    \n",
        "    model = tf.keras.Model(inputs=inputs, outputs=outputs)\n",
        "    \n",
        "    \n",
        "    model.compile(\n",
        "        optimizer='adam',\n",
        "        loss=loss,\n",
        "        metrics=['accuracy']\n",
        "    )\n",
        "    \n",
        "    return model"
      ]
    },
    {
      "cell_type": "code",
      "execution_count": 18,
      "id": "postal-spread",
      "metadata": {
        "colab": {
          "base_uri": "https://localhost:8080/",
          "height": 0
        },
        "id": "postal-spread",
        "outputId": "5b4cc5c9-b016-4857-f47a-8093b801ef14"
      },
      "outputs": [
        {
          "output_type": "execute_result",
          "data": {
            "text/plain": [
              "{'age': [0, 1, 9, 2, 3, 4, 5, 6, 7, 8],\n",
              " 'ethnicity': [2, 3, 4, 0, 1],\n",
              " 'gender': [0, 1]}"
            ]
          },
          "metadata": {},
          "execution_count": 18
        }
      ],
      "source": [
        "{column: list(data[column].unique()) for column in ['gender', 'ethnicity', 'age']}"
      ]
    },
    {
      "cell_type": "code",
      "execution_count": 19,
      "id": "temporal-password",
      "metadata": {
        "id": "temporal-password"
      },
      "outputs": [],
      "source": [
        "X_gender_train, X_gender_test, y_gender_train, y_gender_test = train_test_split(X, y_gender, train_size=0.7)\n",
        "X_ethnicity_train, X_ethnicity_test, y_ethnicity_train, y_ethnicity_test = train_test_split(X, y_ethnicity, train_size=0.7)\n",
        "X_age_train, X_age_test, y_age_train, y_age_test = train_test_split(X, y_age, train_size=0.7)"
      ]
    },
    {
      "cell_type": "markdown",
      "id": "helpful-caution",
      "metadata": {
        "id": "helpful-caution"
      },
      "source": [
        "## Age Training Fix Loss: binary_crossentropy (NOT WORKING)"
      ]
    },
    {
      "cell_type": "markdown",
      "id": "existing-harassment",
      "metadata": {
        "id": "existing-harassment"
      },
      "source": [
        "## Age Training Fix Loss: sparse_categorical_crossentropy"
      ]
    },
    {
      "cell_type": "markdown",
      "id": "helpful-georgia",
      "metadata": {
        "id": "helpful-georgia"
      },
      "source": [
        "## Activation: sigmoid, Loss: sparse_categorical_crossentropy"
      ]
    },
    {
      "cell_type": "code",
      "execution_count": 20,
      "id": "checked-provision",
      "metadata": {
        "colab": {
          "base_uri": "https://localhost:8080/",
          "height": 282
        },
        "id": "checked-provision",
        "outputId": "016887d1-08d6-41b7-d73a-7f111feaab6e"
      },
      "outputs": [
        {
          "output_type": "stream",
          "name": "stdout",
          "text": [
            "223/223 [==============================] - 1s 4ms/step - loss: 1.6937 - accuracy: 0.3702\n"
          ]
        },
        {
          "output_type": "display_data",
          "data": {
            "image/png": "[encoded data removed]",
            "text/plain": [
              "<Figure size 432x288 with 1 Axes>"
            ]
          },
          "metadata": {
            "needs_background": "light"
          }
        }
      ],
      "source": [
        "age_model = build_model(10, activation='sigmoid', loss='sparse_categorical_crossentropy')\n",
        "\n",
        "age_history = age_model.fit(\n",
        "    X_age_train,\n",
        "    y_age_train,\n",
        "    validation_split=0.2,\n",
        "    batch_size=5000,\n",
        "    epochs=50,\n",
        "    callbacks=[tf.keras.callbacks.ReduceLROnPlateau()],\n",
        "    verbose=0\n",
        ")\n",
        "\n",
        "x = np.linspace(0, 50, 50)\n",
        "plt.plot(x, age_history.history['loss'])\n",
        "plt.plot(x, age_history.history['val_loss'])\n",
        "\n",
        "age_acc = age_model.evaluate(X_age_test, y_age_test)[1]"
      ]
    },
    {
      "cell_type": "markdown",
      "id": "universal-massage",
      "metadata": {
        "id": "universal-massage"
      },
      "source": [
        "## Activation: softmax, Loss: sparse_categorical_crossentropy"
      ]
    },
    {
      "cell_type": "code",
      "execution_count": 21,
      "id": "above-crown",
      "metadata": {
        "colab": {
          "base_uri": "https://localhost:8080/",
          "height": 282
        },
        "id": "above-crown",
        "outputId": "eaff9586-7da3-4647-998a-d76f3a022b86"
      },
      "outputs": [
        {
          "output_type": "stream",
          "name": "stdout",
          "text": [
            "223/223 [==============================] - 1s 5ms/step - loss: 1.7231 - accuracy: 0.3488\n"
          ]
        },
        {
          "output_type": "display_data",
          "data": {
            "image/png": "[encoded data removed]",
            "text/plain": [
              "<Figure size 432x288 with 1 Axes>"
            ]
          },
          "metadata": {
            "needs_background": "light"
          }
        }
      ],
      "source": [
        "age_model = build_model(10, activation='softmax', loss='sparse_categorical_crossentropy')\n",
        "\n",
        "age_history = age_model.fit(\n",
        "    X_age_train,\n",
        "    y_age_train,\n",
        "    validation_split=0.2,\n",
        "    batch_size=5000,\n",
        "    epochs=50,\n",
        "    callbacks=[tf.keras.callbacks.ReduceLROnPlateau()],\n",
        "    verbose=0\n",
        ")\n",
        "\n",
        "x = np.linspace(0, 50, 50)\n",
        "plt.plot(x, age_history.history['loss'])\n",
        "plt.plot(x, age_history.history['val_loss'])\n",
        "\n",
        "age_acc = age_model.evaluate(X_age_test, y_age_test)[1]"
      ]
    },
    {
      "cell_type": "markdown",
      "id": "integrated-margin",
      "metadata": {
        "id": "integrated-margin"
      },
      "source": [
        "## Activation: relu, Loss: sparse_categorical_crossentropy"
      ]
    },
    {
      "cell_type": "code",
      "execution_count": 22,
      "id": "complete-mauritius",
      "metadata": {
        "scrolled": true,
        "colab": {
          "base_uri": "https://localhost:8080/",
          "height": 282
        },
        "id": "complete-mauritius",
        "outputId": "c06b058c-984d-418d-da8d-4c7201ddb986"
      },
      "outputs": [
        {
          "output_type": "stream",
          "name": "stdout",
          "text": [
            "223/223 [==============================] - 1s 5ms/step - loss: 2.2965 - accuracy: 0.1095\n"
          ]
        },
        {
          "output_type": "display_data",
          "data": {
            "image/png": "[encoded data removed]",
            "text/plain": [
              "<Figure size 432x288 with 1 Axes>"
            ]
          },
          "metadata": {
            "needs_background": "light"
          }
        }
      ],
      "source": [
        "age_model = build_model(10, activation='relu', loss='sparse_categorical_crossentropy')\n",
        "\n",
        "age_history = age_model.fit(\n",
        "    X_age_train,\n",
        "    y_age_train,\n",
        "    validation_split=0.2,\n",
        "    batch_size=5000,\n",
        "    epochs=50,\n",
        "    callbacks=[tf.keras.callbacks.ReduceLROnPlateau()],\n",
        "    verbose=0\n",
        ")\n",
        "\n",
        "x = np.linspace(0, 50, 50)\n",
        "plt.plot(x, age_history.history['loss'])\n",
        "plt.plot(x, age_history.history['val_loss'])\n",
        "\n",
        "age_acc = age_model.evaluate(X_age_test, y_age_test)[1]"
      ]
    },
    {
      "cell_type": "markdown",
      "id": "exclusive-cruise",
      "metadata": {
        "id": "exclusive-cruise"
      },
      "source": [
        "## Age Training Fix Loss: mean_squared_error"
      ]
    },
    {
      "cell_type": "markdown",
      "id": "interim-sterling",
      "metadata": {
        "id": "interim-sterling"
      },
      "source": [
        "## Activation: sigmoid, Loss: mean_squared_error"
      ]
    },
    {
      "cell_type": "code",
      "execution_count": 23,
      "id": "vietnamese-chancellor",
      "metadata": {
        "colab": {
          "base_uri": "https://localhost:8080/",
          "height": 285
        },
        "id": "vietnamese-chancellor",
        "outputId": "04085fa2-cda5-46d2-8291-f1bf42594d51"
      },
      "outputs": [
        {
          "output_type": "stream",
          "name": "stdout",
          "text": [
            "223/223 [==============================] - 1s 4ms/step - loss: 20.0678 - accuracy: 0.1084\n"
          ]
        },
        {
          "output_type": "display_data",
          "data": {
            "image/png": "[encoded data removed]",
            "text/plain": [
              "<Figure size 432x288 with 1 Axes>"
            ]
          },
          "metadata": {
            "needs_background": "light"
          }
        }
      ],
      "source": [
        "age_model = build_model(10, activation='sigmoid', loss='mean_squared_error')\n",
        "\n",
        "age_history = age_model.fit(\n",
        "    X_age_train,\n",
        "    y_age_train,\n",
        "    validation_split=0.2,\n",
        "    batch_size=5000,\n",
        "    epochs=50,\n",
        "    callbacks=[tf.keras.callbacks.ReduceLROnPlateau()],\n",
        "    verbose=0\n",
        ")\n",
        "\n",
        "x = np.linspace(0, 50, 50)\n",
        "plt.plot(x, age_history.history['loss'])\n",
        "plt.plot(x, age_history.history['val_loss'])\n",
        "\n",
        "age_acc = age_model.evaluate(X_age_test, y_age_test)[1]"
      ]
    },
    {
      "cell_type": "markdown",
      "id": "regular-typing",
      "metadata": {
        "id": "regular-typing"
      },
      "source": [
        "## Activation: softmax, Loss: mean_squared_error"
      ]
    },
    {
      "cell_type": "code",
      "execution_count": 24,
      "id": "welsh-analysis",
      "metadata": {
        "colab": {
          "base_uri": "https://localhost:8080/",
          "height": 283
        },
        "id": "welsh-analysis",
        "outputId": "0d50810b-8d4c-41d1-e81c-a13395c59b56"
      },
      "outputs": [
        {
          "output_type": "stream",
          "name": "stdout",
          "text": [
            "223/223 [==============================] - 1s 5ms/step - loss: 27.0431 - accuracy: 0.1004\n"
          ]
        },
        {
          "output_type": "display_data",
          "data": {
            "image/png": "[encoded data removed]",
            "text/plain": [
              "<Figure size 432x288 with 1 Axes>"
            ]
          },
          "metadata": {
            "needs_background": "light"
          }
        }
      ],
      "source": [
        "age_model = build_model(10, activation='softmax', loss='mean_squared_error')\n",
        "\n",
        "age_history = age_model.fit(\n",
        "    X_age_train,\n",
        "    y_age_train,\n",
        "    validation_split=0.2,\n",
        "    batch_size=5000,\n",
        "    epochs=50,\n",
        "    callbacks=[tf.keras.callbacks.ReduceLROnPlateau()],\n",
        "    verbose=0\n",
        ")\n",
        "\n",
        "x = np.linspace(0, 50, 50)\n",
        "plt.plot(x, age_history.history['loss'])\n",
        "plt.plot(x, age_history.history['val_loss'])\n",
        "\n",
        "age_acc = age_model.evaluate(X_age_test, y_age_test)[1]"
      ]
    },
    {
      "cell_type": "markdown",
      "id": "brave-boutique",
      "metadata": {
        "id": "brave-boutique"
      },
      "source": [
        "## Activation: relu, Loss: mean_squared_error"
      ]
    },
    {
      "cell_type": "code",
      "execution_count": 25,
      "id": "informative-somewhere",
      "metadata": {
        "scrolled": true,
        "colab": {
          "base_uri": "https://localhost:8080/",
          "height": 286
        },
        "id": "informative-somewhere",
        "outputId": "ddb63cfc-dadb-4678-d88b-f116df51c06f"
      },
      "outputs": [
        {
          "output_type": "stream",
          "name": "stdout",
          "text": [
            "223/223 [==============================] - 1s 5ms/step - loss: 8.5093 - accuracy: 0.0579\n"
          ]
        },
        {
          "output_type": "display_data",
          "data": {
            "image/png": "[encoded data removed]",
            "text/plain": [
              "<Figure size 432x288 with 1 Axes>"
            ]
          },
          "metadata": {
            "needs_background": "light"
          }
        }
      ],
      "source": [
        "age_model = build_model(10, activation='relu', loss='mean_squared_error')\n",
        "\n",
        "age_history = age_model.fit(\n",
        "    X_age_train,\n",
        "    y_age_train,\n",
        "    validation_split=0.2,\n",
        "    batch_size=5000,\n",
        "    epochs=50,\n",
        "    callbacks=[tf.keras.callbacks.ReduceLROnPlateau()],\n",
        "    verbose=0\n",
        ")\n",
        "\n",
        "x = np.linspace(0, 50, 50)\n",
        "plt.plot(x, age_history.history['loss'])\n",
        "plt.plot(x, age_history.history['val_loss'])\n",
        "\n",
        "age_acc = age_model.evaluate(X_age_test, y_age_test)[1]"
      ]
    },
    {
      "cell_type": "code",
      "execution_count": 26,
      "id": "magnetic-arrow",
      "metadata": {
        "id": "magnetic-arrow"
      },
      "outputs": [],
      "source": [
        "## Age Training Fix Loss: mean_squared_logarithmic_error"
      ]
    },
    {
      "cell_type": "code",
      "execution_count": 27,
      "id": "forced-grave",
      "metadata": {
        "id": "forced-grave"
      },
      "outputs": [],
      "source": [
        "## Activation: sigmoid, Loss: mean_squared_logarithmic_error"
      ]
    },
    {
      "cell_type": "code",
      "execution_count": 28,
      "id": "multiple-rebate",
      "metadata": {
        "colab": {
          "base_uri": "https://localhost:8080/",
          "height": 282
        },
        "id": "multiple-rebate",
        "outputId": "35294c22-c570-4483-d593-3e16c695e361"
      },
      "outputs": [
        {
          "output_type": "stream",
          "name": "stdout",
          "text": [
            "223/223 [==============================] - 1s 4ms/step - loss: 1.1341 - accuracy: 0.1084\n"
          ]
        },
        {
          "output_type": "display_data",
          "data": {
            "image/png": "[encoded data removed]",
            "text/plain": [
              "<Figure size 432x288 with 1 Axes>"
            ]
          },
          "metadata": {
            "needs_background": "light"
          }
        }
      ],
      "source": [
        "age_model = build_model(10, activation='sigmoid', loss='mean_squared_logarithmic_error')\n",
        "\n",
        "age_history = age_model.fit(\n",
        "    X_age_train,\n",
        "    y_age_train,\n",
        "    validation_split=0.2,\n",
        "    batch_size=5000,\n",
        "    epochs=50,\n",
        "    callbacks=[tf.keras.callbacks.ReduceLROnPlateau()],\n",
        "    verbose=0\n",
        ")\n",
        "\n",
        "x = np.linspace(0, 50, 50)\n",
        "plt.plot(x, age_history.history['loss'])\n",
        "plt.plot(x, age_history.history['val_loss'])\n",
        "\n",
        "age_acc = age_model.evaluate(X_age_test, y_age_test)[1]"
      ]
    },
    {
      "cell_type": "code",
      "execution_count": 29,
      "id": "persistent-makeup",
      "metadata": {
        "id": "persistent-makeup"
      },
      "outputs": [],
      "source": [
        "## Activation: softmax, Loss: mean_squared_logarithmic_error"
      ]
    },
    {
      "cell_type": "code",
      "execution_count": 30,
      "id": "comic-dictionary",
      "metadata": {
        "colab": {
          "base_uri": "https://localhost:8080/",
          "height": 282
        },
        "id": "comic-dictionary",
        "outputId": "ea78e8bf-a9b5-4d61-d336-c434e91e070a"
      },
      "outputs": [
        {
          "output_type": "stream",
          "name": "stdout",
          "text": [
            "223/223 [==============================] - 1s 4ms/step - loss: 2.4441 - accuracy: 0.0908\n"
          ]
        },
        {
          "output_type": "display_data",
          "data": {
            "image/png": "[encoded data removed]",
            "text/plain": [
              "<Figure size 432x288 with 1 Axes>"
            ]
          },
          "metadata": {
            "needs_background": "light"
          }
        }
      ],
      "source": [
        "age_model = build_model(10, activation='softmax', loss='mean_squared_logarithmic_error')\n",
        "\n",
        "age_history = age_model.fit(\n",
        "    X_age_train,\n",
        "    y_age_train,\n",
        "    validation_split=0.2,\n",
        "    batch_size=5000,\n",
        "    epochs=50,\n",
        "    callbacks=[tf.keras.callbacks.ReduceLROnPlateau()],\n",
        "    verbose=0\n",
        ")\n",
        "\n",
        "x = np.linspace(0, 50, 50)\n",
        "plt.plot(x, age_history.history['loss'])\n",
        "plt.plot(x, age_history.history['val_loss'])\n",
        "\n",
        "age_acc = age_model.evaluate(X_age_test, y_age_test)[1]"
      ]
    },
    {
      "cell_type": "code",
      "execution_count": 31,
      "id": "sacred-editing",
      "metadata": {
        "id": "sacred-editing"
      },
      "outputs": [],
      "source": [
        "## Activation: relu, Loss: mean_squared_logarithmic_error"
      ]
    },
    {
      "cell_type": "code",
      "execution_count": 32,
      "id": "usual-melbourne",
      "metadata": {
        "colab": {
          "base_uri": "https://localhost:8080/",
          "height": 282
        },
        "id": "usual-melbourne",
        "outputId": "c6e2417c-8d0c-4921-e339-59f0a80756cb"
      },
      "outputs": [
        {
          "output_type": "stream",
          "name": "stdout",
          "text": [
            "223/223 [==============================] - 1s 5ms/step - loss: 0.6419 - accuracy: 0.1149\n"
          ]
        },
        {
          "output_type": "display_data",
          "data": {
            "image/png": "[encoded data removed]",
            "text/plain": [
              "<Figure size 432x288 with 1 Axes>"
            ]
          },
          "metadata": {
            "needs_background": "light"
          }
        }
      ],
      "source": [
        "age_model = build_model(10, activation='relu', loss='mean_squared_logarithmic_error')\n",
        "\n",
        "age_history = age_model.fit(\n",
        "    X_age_train,\n",
        "    y_age_train,\n",
        "    validation_split=0.2,\n",
        "    batch_size=5000,\n",
        "    epochs=50,\n",
        "    callbacks=[tf.keras.callbacks.ReduceLROnPlateau()],\n",
        "    verbose=0\n",
        ")\n",
        "\n",
        "x = np.linspace(0, 50, 50)\n",
        "plt.plot(x, age_history.history['loss'])\n",
        "plt.plot(x, age_history.history['val_loss'])\n",
        "\n",
        "age_acc = age_model.evaluate(X_age_test, y_age_test)[1]"
      ]
    },
    {
      "cell_type": "code",
      "execution_count": 33,
      "id": "inner-payment",
      "metadata": {
        "id": "inner-payment"
      },
      "outputs": [],
      "source": [
        "## Age Training Fix Loss: mean_absolute_error"
      ]
    },
    {
      "cell_type": "code",
      "execution_count": 34,
      "id": "everyday-display",
      "metadata": {
        "id": "everyday-display"
      },
      "outputs": [],
      "source": [
        "## Activation: sigmoid, Loss: mean_absolute_error"
      ]
    },
    {
      "cell_type": "code",
      "execution_count": 35,
      "id": "insured-jamaica",
      "metadata": {
        "colab": {
          "base_uri": "https://localhost:8080/",
          "height": 282
        },
        "id": "insured-jamaica",
        "outputId": "491eacbe-b8f4-47db-a27d-4c1a1be2d32b"
      },
      "outputs": [
        {
          "output_type": "stream",
          "name": "stdout",
          "text": [
            "223/223 [==============================] - 1s 4ms/step - loss: 3.6420 - accuracy: 0.1084\n"
          ]
        },
        {
          "output_type": "display_data",
          "data": {
            "image/png": "[encoded data removed]",
            "text/plain": [
              "<Figure size 432x288 with 1 Axes>"
            ]
          },
          "metadata": {
            "needs_background": "light"
          }
        }
      ],
      "source": [
        "age_model = build_model(10, activation='sigmoid', loss='mean_absolute_error')\n",
        "\n",
        "age_history = age_model.fit(\n",
        "    X_age_train,\n",
        "    y_age_train,\n",
        "    validation_split=0.2,\n",
        "    batch_size=5000,\n",
        "    epochs=50,\n",
        "    callbacks=[tf.keras.callbacks.ReduceLROnPlateau()],\n",
        "    verbose=0\n",
        ")\n",
        "\n",
        "x = np.linspace(0, 50, 50)\n",
        "plt.plot(x, age_history.history['loss'])\n",
        "plt.plot(x, age_history.history['val_loss'])\n",
        "\n",
        "age_acc = age_model.evaluate(X_age_test, y_age_test)[1]"
      ]
    },
    {
      "cell_type": "code",
      "execution_count": 36,
      "id": "annual-aviation",
      "metadata": {
        "id": "annual-aviation"
      },
      "outputs": [],
      "source": [
        "## Activation: softmax, Loss: mean_absolute_error"
      ]
    },
    {
      "cell_type": "code",
      "execution_count": 37,
      "id": "involved-banking",
      "metadata": {
        "colab": {
          "base_uri": "https://localhost:8080/",
          "height": 282
        },
        "id": "involved-banking",
        "outputId": "ac77b2a3-37c6-4f76-89a7-3a9f18268501"
      },
      "outputs": [
        {
          "output_type": "stream",
          "name": "stdout",
          "text": [
            "223/223 [==============================] - 1s 4ms/step - loss: 4.3469 - accuracy: 0.1118\n"
          ]
        },
        {
          "output_type": "display_data",
          "data": {
            "image/png": "[encoded data removed]",
            "text/plain": [
              "<Figure size 432x288 with 1 Axes>"
            ]
          },
          "metadata": {
            "needs_background": "light"
          }
        }
      ],
      "source": [
        "age_model = build_model(10, activation='softmax', loss='mean_absolute_error')\n",
        "\n",
        "age_history = age_model.fit(\n",
        "    X_age_train,\n",
        "    y_age_train,\n",
        "    validation_split=0.2,\n",
        "    batch_size=5000,\n",
        "    epochs=50,\n",
        "    callbacks=[tf.keras.callbacks.ReduceLROnPlateau()],\n",
        "    verbose=0\n",
        ")\n",
        "\n",
        "x = np.linspace(0, 50, 50)\n",
        "plt.plot(x, age_history.history['loss'])\n",
        "plt.plot(x, age_history.history['val_loss'])\n",
        "\n",
        "age_acc = age_model.evaluate(X_age_test, y_age_test)[1]"
      ]
    },
    {
      "cell_type": "code",
      "execution_count": 38,
      "id": "emerging-shell",
      "metadata": {
        "id": "emerging-shell"
      },
      "outputs": [],
      "source": [
        "## Activation: relu, Loss: mean_absolute_error"
      ]
    },
    {
      "cell_type": "code",
      "execution_count": 39,
      "id": "broad-vocabulary",
      "metadata": {
        "colab": {
          "base_uri": "https://localhost:8080/",
          "height": 282
        },
        "id": "broad-vocabulary",
        "outputId": "4f369f10-6ac5-454f-d98f-321c05432301"
      },
      "outputs": [
        {
          "output_type": "stream",
          "name": "stdout",
          "text": [
            "223/223 [==============================] - 1s 5ms/step - loss: 2.1716 - accuracy: 0.0942\n"
          ]
        },
        {
          "output_type": "display_data",
          "data": {
            "image/png": "[encoded data removed]",
            "text/plain": [
              "<Figure size 432x288 with 1 Axes>"
            ]
          },
          "metadata": {
            "needs_background": "light"
          }
        }
      ],
      "source": [
        "age_model = build_model(10, activation='relu', loss='mean_absolute_error')\n",
        "\n",
        "age_history = age_model.fit(\n",
        "    X_age_train,\n",
        "    y_age_train,\n",
        "    validation_split=0.2,\n",
        "    batch_size=5000,\n",
        "    epochs=50,\n",
        "    callbacks=[tf.keras.callbacks.ReduceLROnPlateau()],\n",
        "    verbose=0\n",
        ")\n",
        "\n",
        "x = np.linspace(0, 50, 50)\n",
        "plt.plot(x, age_history.history['loss'])\n",
        "plt.plot(x, age_history.history['val_loss'])\n",
        "\n",
        "age_acc = age_model.evaluate(X_age_test, y_age_test)[1]"
      ]
    },
    {
      "cell_type": "code",
      "execution_count": 40,
      "id": "diverse-blame",
      "metadata": {
        "id": "diverse-blame"
      },
      "outputs": [],
      "source": [
        "## Age Training Fix Loss: categorical_hinge"
      ]
    },
    {
      "cell_type": "code",
      "execution_count": 41,
      "id": "opposite-quantum",
      "metadata": {
        "id": "opposite-quantum"
      },
      "outputs": [],
      "source": [
        "## Activation: sigmoid, Loss: categorical_hinge"
      ]
    },
    {
      "cell_type": "code",
      "execution_count": 42,
      "id": "sexual-generation",
      "metadata": {
        "colab": {
          "base_uri": "https://localhost:8080/",
          "height": 282
        },
        "id": "sexual-generation",
        "outputId": "d79397eb-eea2-44e8-f575-69c7952a046c"
      },
      "outputs": [
        {
          "output_type": "stream",
          "name": "stdout",
          "text": [
            "223/223 [==============================] - 1s 5ms/step - loss: 0.1224 - accuracy: 0.1069\n"
          ]
        },
        {
          "output_type": "display_data",
          "data": {
            "image/png": "[encoded data removed]",
            "text/plain": [
              "<Figure size 432x288 with 1 Axes>"
            ]
          },
          "metadata": {
            "needs_background": "light"
          }
        }
      ],
      "source": [
        "age_model = build_model(10, activation='sigmoid', loss='categorical_hinge')\n",
        "\n",
        "age_history = age_model.fit(\n",
        "    X_age_train,\n",
        "    y_age_train,\n",
        "    validation_split=0.2,\n",
        "    batch_size=5000,\n",
        "    epochs=50,\n",
        "    callbacks=[tf.keras.callbacks.ReduceLROnPlateau()],\n",
        "    verbose=0\n",
        ")\n",
        "\n",
        "x = np.linspace(0, 50, 50)\n",
        "plt.plot(x, age_history.history['loss'])\n",
        "plt.plot(x, age_history.history['val_loss'])\n",
        "\n",
        "age_acc = age_model.evaluate(X_age_test, y_age_test)[1]"
      ]
    },
    {
      "cell_type": "code",
      "execution_count": 43,
      "id": "future-belle",
      "metadata": {
        "id": "future-belle"
      },
      "outputs": [],
      "source": [
        "## Activation: softmax, Loss: categorical_hinge"
      ]
    },
    {
      "cell_type": "code",
      "execution_count": 44,
      "id": "differential-conditioning",
      "metadata": {
        "colab": {
          "base_uri": "https://localhost:8080/",
          "height": 282
        },
        "id": "differential-conditioning",
        "outputId": "27e526e1-2c65-4c52-889f-12936ed749f2"
      },
      "outputs": [
        {
          "output_type": "stream",
          "name": "stdout",
          "text": [
            "223/223 [==============================] - 1s 5ms/step - loss: 0.1193 - accuracy: 0.1003\n"
          ]
        },
        {
          "output_type": "display_data",
          "data": {
            "image/png": "[encoded data removed]",
            "text/plain": [
              "<Figure size 432x288 with 1 Axes>"
            ]
          },
          "metadata": {
            "needs_background": "light"
          }
        }
      ],
      "source": [
        "age_model = build_model(10, activation='softmax', loss='categorical_hinge')\n",
        "\n",
        "age_history = age_model.fit(\n",
        "    X_age_train,\n",
        "    y_age_train,\n",
        "    validation_split=0.2,\n",
        "    batch_size=5000,\n",
        "    epochs=50,\n",
        "    callbacks=[tf.keras.callbacks.ReduceLROnPlateau()],\n",
        "    verbose=0\n",
        ")\n",
        "\n",
        "x = np.linspace(0, 50, 50)\n",
        "plt.plot(x, age_history.history['loss'])\n",
        "plt.plot(x, age_history.history['val_loss'])\n",
        "\n",
        "age_acc = age_model.evaluate(X_age_test, y_age_test)[1]"
      ]
    },
    {
      "cell_type": "code",
      "execution_count": 45,
      "id": "suburban-darwin",
      "metadata": {
        "id": "suburban-darwin"
      },
      "outputs": [],
      "source": [
        "## Activation: relu, Loss: categorical_hinge"
      ]
    },
    {
      "cell_type": "code",
      "execution_count": 46,
      "id": "peaceful-appearance",
      "metadata": {
        "colab": {
          "base_uri": "https://localhost:8080/",
          "height": 282
        },
        "id": "peaceful-appearance",
        "outputId": "1fcd3081-3a4b-47b1-e41a-2d996eb5b8f9"
      },
      "outputs": [
        {
          "output_type": "stream",
          "name": "stdout",
          "text": [
            "223/223 [==============================] - 1s 5ms/step - loss: 0.1201 - accuracy: 0.0984\n"
          ]
        },
        {
          "output_type": "display_data",
          "data": {
            "image/png": "[encoded data removed]",
            "text/plain": [
              "<Figure size 432x288 with 1 Axes>"
            ]
          },
          "metadata": {
            "needs_background": "light"
          }
        }
      ],
      "source": [
        "age_model = build_model(10, activation='relu', loss='categorical_hinge')\n",
        "\n",
        "age_history = age_model.fit(\n",
        "    X_age_train,\n",
        "    y_age_train,\n",
        "    validation_split=0.2,\n",
        "    batch_size=5000,\n",
        "    epochs=50,\n",
        "    callbacks=[tf.keras.callbacks.ReduceLROnPlateau()],\n",
        "    verbose=0\n",
        ")\n",
        "\n",
        "x = np.linspace(0, 50, 50)\n",
        "plt.plot(x, age_history.history['loss'])\n",
        "plt.plot(x, age_history.history['val_loss'])\n",
        "\n",
        "age_acc = age_model.evaluate(X_age_test, y_age_test)[1]"
      ]
    },
    {
      "cell_type": "code",
      "execution_count": 47,
      "id": "spatial-indian",
      "metadata": {
        "id": "spatial-indian"
      },
      "outputs": [],
      "source": [
        "## Age Training Fix Loss: logcosh"
      ]
    },
    {
      "cell_type": "code",
      "execution_count": 48,
      "id": "uniform-lottery",
      "metadata": {
        "id": "uniform-lottery"
      },
      "outputs": [],
      "source": [
        "## Activation: sigmoid, Loss: logcosh"
      ]
    },
    {
      "cell_type": "code",
      "execution_count": 49,
      "id": "regulated-filter",
      "metadata": {
        "colab": {
          "base_uri": "https://localhost:8080/",
          "height": 282
        },
        "id": "regulated-filter",
        "outputId": "f83d156a-d7cc-4b38-955f-2a67c81f91b4"
      },
      "outputs": [
        {
          "output_type": "stream",
          "name": "stdout",
          "text": [
            "223/223 [==============================] - 1s 5ms/step - loss: 3.0470 - accuracy: 0.1084\n"
          ]
        },
        {
          "output_type": "display_data",
          "data": {
            "image/png": "[encoded data removed]",
            "text/plain": [
              "<Figure size 432x288 with 1 Axes>"
            ]
          },
          "metadata": {
            "needs_background": "light"
          }
        }
      ],
      "source": [
        "age_model = build_model(10, activation='sigmoid', loss='logcosh')\n",
        "\n",
        "age_history = age_model.fit(\n",
        "    X_age_train,\n",
        "    y_age_train,\n",
        "    validation_split=0.2,\n",
        "    batch_size=5000,\n",
        "    epochs=50,\n",
        "    callbacks=[tf.keras.callbacks.ReduceLROnPlateau()],\n",
        "    verbose=0\n",
        ")\n",
        "\n",
        "x = np.linspace(0, 50, 50)\n",
        "plt.plot(x, age_history.history['loss'])\n",
        "plt.plot(x, age_history.history['val_loss'])\n",
        "\n",
        "age_acc = age_model.evaluate(X_age_test, y_age_test)[1]"
      ]
    },
    {
      "cell_type": "code",
      "execution_count": 50,
      "id": "thermal-panama",
      "metadata": {
        "id": "thermal-panama"
      },
      "outputs": [],
      "source": [
        "## Activation: softmax, Loss: logcosh"
      ]
    },
    {
      "cell_type": "code",
      "execution_count": 51,
      "id": "operational-future",
      "metadata": {
        "colab": {
          "base_uri": "https://localhost:8080/",
          "height": 282
        },
        "id": "operational-future",
        "outputId": "64183fc4-24f8-40ce-9669-5013c88837d9"
      },
      "outputs": [
        {
          "output_type": "stream",
          "name": "stdout",
          "text": [
            "223/223 [==============================] - 1s 4ms/step - loss: 3.7364 - accuracy: 0.1004\n"
          ]
        },
        {
          "output_type": "display_data",
          "data": {
            "image/png": "[encoded data removed]",
            "text/plain": [
              "<Figure size 432x288 with 1 Axes>"
            ]
          },
          "metadata": {
            "needs_background": "light"
          }
        }
      ],
      "source": [
        "age_model = build_model(10, activation='softmax', loss='logcosh')\n",
        "\n",
        "age_history = age_model.fit(\n",
        "    X_age_train,\n",
        "    y_age_train,\n",
        "    validation_split=0.2,\n",
        "    batch_size=5000,\n",
        "    epochs=50,\n",
        "    callbacks=[tf.keras.callbacks.ReduceLROnPlateau()],\n",
        "    verbose=0\n",
        ")\n",
        "\n",
        "x = np.linspace(0, 50, 50)\n",
        "plt.plot(x, age_history.history['loss'])\n",
        "plt.plot(x, age_history.history['val_loss'])\n",
        "\n",
        "age_acc = age_model.evaluate(X_age_test, y_age_test)[1]"
      ]
    },
    {
      "cell_type": "code",
      "execution_count": 52,
      "id": "alpha-connection",
      "metadata": {
        "id": "alpha-connection"
      },
      "outputs": [],
      "source": [
        "## Activation: relu, Loss: logcosh"
      ]
    },
    {
      "cell_type": "code",
      "execution_count": 53,
      "id": "empirical-present",
      "metadata": {
        "colab": {
          "base_uri": "https://localhost:8080/",
          "height": 282
        },
        "id": "empirical-present",
        "outputId": "2bc07f45-4d2f-4e97-fe6c-3fd5da68337d"
      },
      "outputs": [
        {
          "output_type": "stream",
          "name": "stdout",
          "text": [
            "223/223 [==============================] - 1s 4ms/step - loss: 1.8680 - accuracy: 0.0900\n"
          ]
        },
        {
          "output_type": "display_data",
          "data": {
            "image/png": "[encoded data removed]",
            "text/plain": [
              "<Figure size 432x288 with 1 Axes>"
            ]
          },
          "metadata": {
            "needs_background": "light"
          }
        }
      ],
      "source": [
        "age_model = build_model(10, activation='relu', loss='logcosh')\n",
        "\n",
        "age_history = age_model.fit(\n",
        "    X_age_train,\n",
        "    y_age_train,\n",
        "    validation_split=0.2,\n",
        "    batch_size=5000,\n",
        "    epochs=50,\n",
        "    callbacks=[tf.keras.callbacks.ReduceLROnPlateau()],\n",
        "    verbose=0\n",
        ")\n",
        "\n",
        "x = np.linspace(0, 50, 50)\n",
        "plt.plot(x, age_history.history['loss'])\n",
        "plt.plot(x, age_history.history['val_loss'])\n",
        "\n",
        "age_acc = age_model.evaluate(X_age_test, y_age_test)[1]"
      ]
    },
    {
      "cell_type": "code",
      "execution_count": 53,
      "id": "derived-motion",
      "metadata": {
        "id": "derived-motion"
      },
      "outputs": [],
      "source": [
        ""
      ]
    }
  ],
  "metadata": {
    "kernelspec": {
      "display_name": "Python 3",
      "language": "python",
      "name": "python3"
    },
    "language_info": {
      "codemirror_mode": {
        "name": "ipython",
        "version": 3
      },
      "file_extension": ".py",
      "mimetype": "text/x-python",
      "name": "python",
      "nbconvert_exporter": "python",
      "pygments_lexer": "ipython3",
      "version": "3.8.6"
    },
    "colab": {
      "name": "DLProjectAge10-New.ipynb",
      "provenance": [],
      "collapsed_sections": []
    },
    "accelerator": "GPU"
  },
  "nbformat": 4,
  "nbformat_minor": 5
}