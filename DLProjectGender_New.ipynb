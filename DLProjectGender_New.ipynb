{
  "cells": [
    {
      "cell_type": "code",
      "execution_count": 2,
      "id": "assisted-breathing",
      "metadata": {
        "id": "assisted-breathing"
      },
      "outputs": [],
      "source": [
        "import numpy as np\n",
        "import pandas as pd\n",
        "import matplotlib.pyplot as plt\n",
        "import plotly.express as px\n",
        "\n",
        "from sklearn.model_selection import train_test_split\n",
        "\n",
        "import tensorflow as tf"
      ]
    },
    {
      "cell_type": "markdown",
      "id": "hearing-inside",
      "metadata": {
        "id": "hearing-inside"
      },
      "source": [
        "# READ DATA"
      ]
    },
    {
      "cell_type": "code",
      "source": [
        "from google.colab import drive\n",
        "drive.mount('/content/drive')"
      ],
      "metadata": {
        "colab": {
          "base_uri": "https://localhost:8080/"
        },
        "id": "9MFGOSYV6DYo",
        "outputId": "57951eda-3d61-4141-cee5-e2f095260c49"
      },
      "id": "9MFGOSYV6DYo",
      "execution_count": 3,
      "outputs": [
        {
          "output_type": "stream",
          "name": "stdout",
          "text": [
            "Drive already mounted at /content/drive; to attempt to forcibly remount, call drive.mount(\"/content/drive\", force_remount=True).\n"
          ]
        }
      ]
    },
    {
      "cell_type": "code",
      "execution_count": 4,
      "id": "senior-thumb",
      "metadata": {
        "id": "senior-thumb"
      },
      "outputs": [],
      "source": [
        "data = pd.read_csv('/content/drive/MyDrive/Colab Notebooks/age_gender.csv')"
      ]
    },
    {
      "cell_type": "markdown",
      "id": "vietnamese-queue",
      "metadata": {
        "id": "vietnamese-queue"
      },
      "source": [
        "# DATA PROCESSING"
      ]
    },
    {
      "cell_type": "code",
      "execution_count": 5,
      "id": "studied-mapping",
      "metadata": {
        "id": "studied-mapping"
      },
      "outputs": [],
      "source": [
        "data = data.drop('img_name', axis=1)"
      ]
    },
    {
      "cell_type": "code",
      "execution_count": 6,
      "id": "joined-contribution",
      "metadata": {
        "id": "joined-contribution"
      },
      "outputs": [],
      "source": [
        "data['age'] = pd.qcut(data['age'], q=10, labels=[0, 1, 2, 3,4,5,6,7,8,9])"
      ]
    },
    {
      "cell_type": "code",
      "execution_count": 7,
      "id": "republican-discovery",
      "metadata": {
        "colab": {
          "base_uri": "https://localhost:8080/"
        },
        "id": "republican-discovery",
        "outputId": "85d6f16d-b295-43d8-d794-724265b0829e"
      },
      "outputs": [
        {
          "output_type": "execute_result",
          "data": {
            "text/plain": [
              "48.0"
            ]
          },
          "metadata": {},
          "execution_count": 7
        }
      ],
      "source": [
        "np.sqrt(len(data['pixels'][0].split(' ')))"
      ]
    },
    {
      "cell_type": "code",
      "execution_count": 8,
      "id": "comic-parade",
      "metadata": {
        "id": "comic-parade"
      },
      "outputs": [],
      "source": [
        "num_pixels = 2304\n",
        "img_height = 48\n",
        "img_width = 48"
      ]
    },
    {
      "cell_type": "code",
      "execution_count": 9,
      "id": "thirty-mayor",
      "metadata": {
        "id": "thirty-mayor"
      },
      "outputs": [],
      "source": [
        "target_columns = ['gender', 'ethnicity', 'age']\n",
        "\n",
        "y = data[target_columns]\n",
        "X = data.drop(target_columns, axis=1)"
      ]
    },
    {
      "cell_type": "markdown",
      "id": "seeing-purple",
      "metadata": {
        "id": "seeing-purple"
      },
      "source": [
        "# RESHAPE X"
      ]
    },
    {
      "cell_type": "code",
      "execution_count": 10,
      "id": "contrary-savage",
      "metadata": {
        "id": "contrary-savage"
      },
      "outputs": [],
      "source": [
        "X = data['pixels'].str.split(' ', expand=True)"
      ]
    },
    {
      "cell_type": "code",
      "execution_count": 11,
      "id": "compound-candy",
      "metadata": {
        "id": "compound-candy"
      },
      "outputs": [],
      "source": [
        "X = np.array(X).astype(int)\n",
        "X = np.array([a.reshape(48, 48) for a in X])"
      ]
    },
    {
      "cell_type": "code",
      "execution_count": 12,
      "id": "coated-simpson",
      "metadata": {
        "colab": {
          "base_uri": "https://localhost:8080/"
        },
        "id": "coated-simpson",
        "outputId": "3dbe07e7-20e8-430b-91c4-42033f7b0791"
      },
      "outputs": [
        {
          "output_type": "execute_result",
          "data": {
            "text/plain": [
              "(23705, 48, 48)"
            ]
          },
          "metadata": {},
          "execution_count": 12
        }
      ],
      "source": [
        "X.shape"
      ]
    },
    {
      "cell_type": "markdown",
      "id": "enabling-concentration",
      "metadata": {
        "id": "enabling-concentration"
      },
      "source": [
        "# Training"
      ]
    },
    {
      "cell_type": "code",
      "execution_count": 13,
      "id": "impressive-fifteen",
      "metadata": {
        "id": "impressive-fifteen"
      },
      "outputs": [],
      "source": [
        "y_gender = np.array(y['gender'])\n",
        "y_ethnicity = np.array(y['ethnicity'])\n",
        "y_age = np.array(y['age'])"
      ]
    },
    {
      "cell_type": "code",
      "execution_count": 14,
      "id": "comfortable-thailand",
      "metadata": {
        "colab": {
          "base_uri": "https://localhost:8080/"
        },
        "id": "comfortable-thailand",
        "outputId": "1f0757fb-3a4c-4fbb-bc2d-4dfd5c5b9a77"
      },
      "outputs": [
        {
          "output_type": "execute_result",
          "data": {
            "text/plain": [
              "23705"
            ]
          },
          "metadata": {},
          "execution_count": 14
        }
      ],
      "source": [
        "len(y_gender)"
      ]
    },
    {
      "cell_type": "markdown",
      "id": "cooked-gentleman",
      "metadata": {
        "id": "cooked-gentleman"
      },
      "source": [
        "## Model Def"
      ]
    },
    {
      "cell_type": "code",
      "execution_count": 15,
      "id": "mineral-button",
      "metadata": {
        "id": "mineral-button"
      },
      "outputs": [],
      "source": [
        "def build_model(num_classes, activation, loss):\n",
        "    \n",
        "    inputs = tf.keras.Input(shape=(img_height, img_width, 1))\n",
        "    x = tf.keras.layers.experimental.preprocessing.Rescaling(1./255)(inputs)\n",
        "    x = tf.keras.layers.Conv2D(16, 3, padding='same', activation='relu')(x)\n",
        "    x = tf.keras.layers.MaxPooling2D()(x)\n",
        "    x = tf.keras.layers.Conv2D(32, 3, padding='same', activation='relu')(x)\n",
        "    x = tf.keras.layers.MaxPooling2D()(x)\n",
        "    x = tf.keras.layers.Conv2D(64, 3, padding='same', activation='relu')(x)\n",
        "    x = tf.keras.layers.MaxPooling2D()(x)\n",
        "    x = tf.keras.layers.Flatten()(x)\n",
        "    x = tf.keras.layers.Dense(128, activation='relu')(x)\n",
        "    outputs = tf.keras.layers.Dense(num_classes, activation=activation)(x)\n",
        "    \n",
        "    model = tf.keras.Model(inputs=inputs, outputs=outputs)\n",
        "    \n",
        "    \n",
        "    model.compile(\n",
        "        optimizer='adam',\n",
        "        loss=loss,\n",
        "        metrics=['accuracy']\n",
        "    )\n",
        "    \n",
        "    return model"
      ]
    },
    {
      "cell_type": "code",
      "execution_count": 16,
      "id": "postal-spread",
      "metadata": {
        "colab": {
          "base_uri": "https://localhost:8080/"
        },
        "id": "postal-spread",
        "outputId": "20d06244-a571-4ac8-d21f-0c742eacb0ea"
      },
      "outputs": [
        {
          "output_type": "execute_result",
          "data": {
            "text/plain": [
              "{'age': [0, 1, 9, 2, 3, 4, 5, 6, 7, 8],\n",
              " 'ethnicity': [2, 3, 4, 0, 1],\n",
              " 'gender': [0, 1]}"
            ]
          },
          "metadata": {},
          "execution_count": 16
        }
      ],
      "source": [
        "{column: list(data[column].unique()) for column in ['gender', 'ethnicity', 'age']}"
      ]
    },
    {
      "cell_type": "code",
      "execution_count": 17,
      "id": "temporal-password",
      "metadata": {
        "id": "temporal-password"
      },
      "outputs": [],
      "source": [
        "X_gender_train, X_gender_test, y_gender_train, y_gender_test = train_test_split(X, y_gender, train_size=0.7)\n",
        "X_ethnicity_train, X_ethnicity_test, y_ethnicity_train, y_ethnicity_test = train_test_split(X, y_ethnicity, train_size=0.7)\n",
        "X_age_train, X_age_test, y_age_train, y_age_test = train_test_split(X, y_age, train_size=0.7)"
      ]
    },
    {
      "cell_type": "markdown",
      "id": "helpful-caution",
      "metadata": {
        "id": "helpful-caution"
      },
      "source": [
        "## Gender Training Fix Loss: binary_crossentropy"
      ]
    },
    {
      "cell_type": "markdown",
      "id": "knowing-ownership",
      "metadata": {
        "id": "knowing-ownership"
      },
      "source": [
        "## Activation: sigmoid, Loss: binary_crossentropy"
      ]
    },
    {
      "cell_type": "code",
      "execution_count": 18,
      "id": "liberal-billy",
      "metadata": {
        "colab": {
          "base_uri": "https://localhost:8080/",
          "height": 282
        },
        "id": "liberal-billy",
        "outputId": "8c51b3f6-a121-43f4-b619-ebcb39ab7ecf"
      },
      "outputs": [
        {
          "output_type": "stream",
          "name": "stdout",
          "text": [
            "223/223 [==============================] - 1s 5ms/step - loss: 0.3439 - accuracy: 0.8494\n"
          ]
        },
        {
          "output_type": "display_data",
          "data": {
            "image/png": "[encoded data removed]",
            "text/plain": [
              "<Figure size 432x288 with 1 Axes>"
            ]
          },
          "metadata": {
            "needs_background": "light"
          }
        }
      ],
      "source": [
        "gender_model = build_model(1, activation='sigmoid', loss='binary_crossentropy')\n",
        "\n",
        "gender_history = gender_model.fit(\n",
        "    X_gender_train,\n",
        "    y_gender_train,\n",
        "    validation_split=0.2,\n",
        "    batch_size=5000,\n",
        "    epochs=50,\n",
        "    callbacks=[tf.keras.callbacks.ReduceLROnPlateau()],\n",
        "    verbose=0\n",
        ")\n",
        "\n",
        "x = np.linspace(0, 50, 50)\n",
        "plt.plot(x, gender_history.history['loss'])\n",
        "plt.plot(x, gender_history.history['val_loss'])\n",
        "\n",
        "gender_acc = gender_model.evaluate(X_gender_test, y_gender_test)[1]"
      ]
    },
    {
      "cell_type": "markdown",
      "id": "passive-cruise",
      "metadata": {
        "id": "passive-cruise"
      },
      "source": [
        "## Activation: softmax, Loss: binary_crossentropy"
      ]
    },
    {
      "cell_type": "code",
      "execution_count": 19,
      "id": "suspected-senator",
      "metadata": {
        "colab": {
          "base_uri": "https://localhost:8080/",
          "height": 282
        },
        "id": "suspected-senator",
        "outputId": "ecb363b7-bf5d-4fcc-bf50-881de62d9794"
      },
      "outputs": [
        {
          "output_type": "stream",
          "name": "stdout",
          "text": [
            "223/223 [==============================] - 1s 5ms/step - loss: 0.3231 - accuracy: 0.4824\n"
          ]
        },
        {
          "output_type": "display_data",
          "data": {
            "image/png": "[encoded data removed]",
            "text/plain": [
              "<Figure size 432x288 with 1 Axes>"
            ]
          },
          "metadata": {
            "needs_background": "light"
          }
        }
      ],
      "source": [
        "gender_model = build_model(1, activation='softmax', loss='binary_crossentropy')\n",
        "\n",
        "gender_history = gender_model.fit(\n",
        "    X_gender_train,\n",
        "    y_gender_train,\n",
        "    validation_split=0.2,\n",
        "    batch_size=5000,\n",
        "    epochs=50,\n",
        "    callbacks=[tf.keras.callbacks.ReduceLROnPlateau()],\n",
        "    verbose=0\n",
        ")\n",
        "\n",
        "x = np.linspace(0, 50, 50)\n",
        "plt.plot(x, gender_history.history['loss'])\n",
        "plt.plot(x, gender_history.history['val_loss'])\n",
        "\n",
        "gender_acc = gender_model.evaluate(X_gender_test, y_gender_test)[1]"
      ]
    },
    {
      "cell_type": "markdown",
      "id": "flush-sessions",
      "metadata": {
        "id": "flush-sessions"
      },
      "source": [
        "## Activation: relu, Loss: binary_crossentropy"
      ]
    },
    {
      "cell_type": "code",
      "execution_count": 20,
      "id": "charitable-blowing",
      "metadata": {
        "scrolled": false,
        "colab": {
          "base_uri": "https://localhost:8080/",
          "height": 282
        },
        "id": "charitable-blowing",
        "outputId": "80a7e8b9-84b3-4f08-db34-8e3511c54039"
      },
      "outputs": [
        {
          "output_type": "stream",
          "name": "stdout",
          "text": [
            "223/223 [==============================] - 1s 5ms/step - loss: 0.4481 - accuracy: 0.8234\n"
          ]
        },
        {
          "output_type": "display_data",
          "data": {
            "image/png": "[encoded data removed]",
            "text/plain": [
              "<Figure size 432x288 with 1 Axes>"
            ]
          },
          "metadata": {
            "needs_background": "light"
          }
        }
      ],
      "source": [
        "gender_model = build_model(1, activation='relu', loss='binary_crossentropy')\n",
        "\n",
        "gender_history = gender_model.fit(\n",
        "    X_gender_train,\n",
        "    y_gender_train,\n",
        "    validation_split=0.2,\n",
        "    batch_size=5000,\n",
        "    epochs=50,\n",
        "    callbacks=[tf.keras.callbacks.ReduceLROnPlateau()],\n",
        "    verbose=0\n",
        ")\n",
        "\n",
        "x = np.linspace(0, 50, 50)\n",
        "plt.plot(x, gender_history.history['loss'])\n",
        "plt.plot(x, gender_history.history['val_loss'])\n",
        "\n",
        "gender_acc = gender_model.evaluate(X_gender_test, y_gender_test)[1]"
      ]
    },
    {
      "cell_type": "markdown",
      "id": "altered-joint",
      "metadata": {
        "id": "altered-joint"
      },
      "source": [
        "## Gender Training Fix Loss: sparse_categorical_crossentropy"
      ]
    },
    {
      "cell_type": "markdown",
      "id": "rocky-italian",
      "metadata": {
        "id": "rocky-italian"
      },
      "source": [
        "## Activation: sigmoid, Loss: sparse_categorical_crossentropy"
      ]
    },
    {
      "cell_type": "code",
      "execution_count": 21,
      "id": "polished-credits",
      "metadata": {
        "colab": {
          "base_uri": "https://localhost:8080/",
          "height": 283
        },
        "id": "polished-credits",
        "outputId": "3fc0c0ad-3fba-4541-da57-fc1e42577c70"
      },
      "outputs": [
        {
          "output_type": "stream",
          "name": "stdout",
          "text": [
            "223/223 [==============================] - 1s 5ms/step - loss: 0.3045 - accuracy: 0.8688\n"
          ]
        },
        {
          "output_type": "display_data",
          "data": {
            "image/png": "[encoded data removed]",
            "text/plain": [
              "<Figure size 432x288 with 1 Axes>"
            ]
          },
          "metadata": {
            "needs_background": "light"
          }
        }
      ],
      "source": [
        "gender_model = build_model(2, activation='sigmoid', loss='sparse_categorical_crossentropy')\n",
        "\n",
        "gender_history = gender_model.fit(\n",
        "    X_gender_train,\n",
        "    y_gender_train,\n",
        "    validation_split=0.2,\n",
        "    batch_size=5000,\n",
        "    epochs=50,\n",
        "    callbacks=[tf.keras.callbacks.ReduceLROnPlateau()],\n",
        "    verbose=0\n",
        ")\n",
        "\n",
        "x = np.linspace(0, 50, 50)\n",
        "plt.plot(x, gender_history.history['loss'])\n",
        "plt.plot(x, gender_history.history['val_loss'])\n",
        "\n",
        "gender_acc = gender_model.evaluate(X_gender_test, y_gender_test)[1]"
      ]
    },
    {
      "cell_type": "markdown",
      "id": "analyzed-healthcare",
      "metadata": {
        "id": "analyzed-healthcare"
      },
      "source": [
        "## Activation: softmax, Loss: sparse_categorical_crossentropy"
      ]
    },
    {
      "cell_type": "code",
      "execution_count": 22,
      "id": "quiet-department",
      "metadata": {
        "colab": {
          "base_uri": "https://localhost:8080/",
          "height": 282
        },
        "id": "quiet-department",
        "outputId": "a2c75900-7f64-4acf-e37f-cd1353e05195"
      },
      "outputs": [
        {
          "output_type": "stream",
          "name": "stdout",
          "text": [
            "223/223 [==============================] - 1s 5ms/step - loss: 0.3166 - accuracy: 0.8632\n"
          ]
        },
        {
          "output_type": "display_data",
          "data": {
            "image/png": "[encoded data removed]",
            "text/plain": [
              "<Figure size 432x288 with 1 Axes>"
            ]
          },
          "metadata": {
            "needs_background": "light"
          }
        }
      ],
      "source": [
        "gender_model = build_model(2, activation='softmax', loss='sparse_categorical_crossentropy')\n",
        "\n",
        "gender_history = gender_model.fit(\n",
        "    X_gender_train,\n",
        "    y_gender_train,\n",
        "    validation_split=0.2,\n",
        "    batch_size=5000,\n",
        "    epochs=50,\n",
        "    callbacks=[tf.keras.callbacks.ReduceLROnPlateau()],\n",
        "    verbose=0\n",
        ")\n",
        "\n",
        "x = np.linspace(0, 50, 50)\n",
        "plt.plot(x, gender_history.history['loss'])\n",
        "plt.plot(x, gender_history.history['val_loss'])\n",
        "\n",
        "gender_acc = gender_model.evaluate(X_gender_test, y_gender_test)[1]"
      ]
    },
    {
      "cell_type": "markdown",
      "id": "unknown-funds",
      "metadata": {
        "id": "unknown-funds"
      },
      "source": [
        "## Activation: relu, Loss: sparse_categorical_crossentropy"
      ]
    },
    {
      "cell_type": "code",
      "execution_count": 23,
      "id": "polish-pipeline",
      "metadata": {
        "scrolled": true,
        "colab": {
          "base_uri": "https://localhost:8080/",
          "height": 282
        },
        "id": "polish-pipeline",
        "outputId": "4bbdc34e-d895-4921-bde8-db2d0bf1ad68"
      },
      "outputs": [
        {
          "output_type": "stream",
          "name": "stdout",
          "text": [
            "223/223 [==============================] - 1s 5ms/step - loss: 0.6931 - accuracy: 0.5176\n"
          ]
        },
        {
          "output_type": "display_data",
          "data": {
            "image/png": "[encoded data removed]",
            "text/plain": [
              "<Figure size 432x288 with 1 Axes>"
            ]
          },
          "metadata": {
            "needs_background": "light"
          }
        }
      ],
      "source": [
        "gender_model = build_model(2, activation='relu', loss='sparse_categorical_crossentropy')\n",
        "\n",
        "gender_history = gender_model.fit(\n",
        "    X_gender_train,\n",
        "    y_gender_train,\n",
        "    validation_split=0.2,\n",
        "    batch_size=5000,\n",
        "    epochs=50,\n",
        "    callbacks=[tf.keras.callbacks.ReduceLROnPlateau()],\n",
        "    verbose=0\n",
        ")\n",
        "\n",
        "x = np.linspace(0, 50, 50)\n",
        "plt.plot(x, gender_history.history['loss'])\n",
        "plt.plot(x, gender_history.history['val_loss'])\n",
        "\n",
        "gender_acc = gender_model.evaluate(X_gender_test, y_gender_test)[1]"
      ]
    },
    {
      "cell_type": "markdown",
      "id": "black-appearance",
      "metadata": {
        "id": "black-appearance"
      },
      "source": [
        "## Gender Training Fix Loss: mean_squared_error"
      ]
    },
    {
      "cell_type": "markdown",
      "id": "solid-natural",
      "metadata": {
        "id": "solid-natural"
      },
      "source": [
        "## Activation: sigmoid, Loss: mean_squared_error"
      ]
    },
    {
      "cell_type": "code",
      "execution_count": 24,
      "id": "careful-source",
      "metadata": {
        "colab": {
          "base_uri": "https://localhost:8080/",
          "height": 282
        },
        "id": "careful-source",
        "outputId": "5b3aef9f-40be-4ba4-d0df-e0422fd18464"
      },
      "outputs": [
        {
          "output_type": "stream",
          "name": "stdout",
          "text": [
            "223/223 [==============================] - 1s 4ms/step - loss: 0.1000 - accuracy: 0.4706\n"
          ]
        },
        {
          "output_type": "display_data",
          "data": {
            "image/png": "[encoded data removed]",
            "text/plain": [
              "<Figure size 432x288 with 1 Axes>"
            ]
          },
          "metadata": {
            "needs_background": "light"
          }
        }
      ],
      "source": [
        "gender_model = build_model(2, activation='sigmoid', loss='mean_squared_error')\n",
        "\n",
        "gender_history = gender_model.fit(\n",
        "    X_gender_train,\n",
        "    y_gender_train,\n",
        "    validation_split=0.2,\n",
        "    batch_size=5000,\n",
        "    epochs=50,\n",
        "    callbacks=[tf.keras.callbacks.ReduceLROnPlateau()],\n",
        "    verbose=0\n",
        ")\n",
        "\n",
        "x = np.linspace(0, 50, 50)\n",
        "plt.plot(x, gender_history.history['loss'])\n",
        "plt.plot(x, gender_history.history['val_loss'])\n",
        "\n",
        "gender_acc = gender_model.evaluate(X_gender_test, y_gender_test)[1]"
      ]
    },
    {
      "cell_type": "markdown",
      "id": "pacific-entry",
      "metadata": {
        "id": "pacific-entry"
      },
      "source": [
        "## Activation: softmax, Loss: mean_squared_error"
      ]
    },
    {
      "cell_type": "code",
      "execution_count": 25,
      "id": "fourth-afghanistan",
      "metadata": {
        "colab": {
          "base_uri": "https://localhost:8080/",
          "height": 282
        },
        "id": "fourth-afghanistan",
        "outputId": "82238719-df87-462d-86c3-48c495697f0b"
      },
      "outputs": [
        {
          "output_type": "stream",
          "name": "stdout",
          "text": [
            "223/223 [==============================] - 1s 5ms/step - loss: 0.2500 - accuracy: 0.5724\n"
          ]
        },
        {
          "output_type": "display_data",
          "data": {
            "image/png": "[encoded data removed]",
            "text/plain": [
              "<Figure size 432x288 with 1 Axes>"
            ]
          },
          "metadata": {
            "needs_background": "light"
          }
        }
      ],
      "source": [
        "gender_model = build_model(2, activation='softmax', loss='mean_squared_error')\n",
        "\n",
        "gender_history = gender_model.fit(\n",
        "    X_gender_train,\n",
        "    y_gender_train,\n",
        "    validation_split=0.2,\n",
        "    batch_size=5000,\n",
        "    epochs=50,\n",
        "    callbacks=[tf.keras.callbacks.ReduceLROnPlateau()],\n",
        "    verbose=0\n",
        ")\n",
        "\n",
        "x = np.linspace(0, 50, 50)\n",
        "plt.plot(x, gender_history.history['loss'])\n",
        "plt.plot(x, gender_history.history['val_loss'])\n",
        "\n",
        "gender_acc = gender_model.evaluate(X_gender_test, y_gender_test)[1]"
      ]
    },
    {
      "cell_type": "markdown",
      "id": "prescribed-chosen",
      "metadata": {
        "id": "prescribed-chosen"
      },
      "source": [
        "## Activation: relu, Loss: mean_squared_error"
      ]
    },
    {
      "cell_type": "code",
      "execution_count": 26,
      "id": "educational-collapse",
      "metadata": {
        "scrolled": true,
        "colab": {
          "base_uri": "https://localhost:8080/",
          "height": 282
        },
        "id": "educational-collapse",
        "outputId": "920387ca-db75-4b07-9dee-2b8d83bd9f11"
      },
      "outputs": [
        {
          "output_type": "stream",
          "name": "stdout",
          "text": [
            "223/223 [==============================] - 1s 4ms/step - loss: 0.2961 - accuracy: 0.6663\n"
          ]
        },
        {
          "output_type": "display_data",
          "data": {
            "image/png": "[encoded data removed]",
            "text/plain": [
              "<Figure size 432x288 with 1 Axes>"
            ]
          },
          "metadata": {
            "needs_background": "light"
          }
        }
      ],
      "source": [
        "gender_model = build_model(2, activation='relu', loss='mean_squared_error')\n",
        "\n",
        "gender_history = gender_model.fit(\n",
        "    X_gender_train,\n",
        "    y_gender_train,\n",
        "    validation_split=0.2,\n",
        "    batch_size=5000,\n",
        "    epochs=50,\n",
        "    callbacks=[tf.keras.callbacks.ReduceLROnPlateau()],\n",
        "    verbose=0\n",
        ")\n",
        "\n",
        "x = np.linspace(0, 50, 50)\n",
        "plt.plot(x, gender_history.history['loss'])\n",
        "plt.plot(x, gender_history.history['val_loss'])\n",
        "\n",
        "gender_acc = gender_model.evaluate(X_gender_test, y_gender_test)[1]"
      ]
    },
    {
      "cell_type": "code",
      "execution_count": 27,
      "id": "double-switzerland",
      "metadata": {
        "id": "double-switzerland"
      },
      "outputs": [],
      "source": [
        "## Gender Training Fix Loss: mean_squared_logarithmic_error"
      ]
    },
    {
      "cell_type": "code",
      "execution_count": 28,
      "id": "brutal-testimony",
      "metadata": {
        "id": "brutal-testimony"
      },
      "outputs": [],
      "source": [
        "## Activation: sigmoid, Loss: mean_squared_logarithmic_error"
      ]
    },
    {
      "cell_type": "code",
      "execution_count": 29,
      "id": "deadly-melissa",
      "metadata": {
        "colab": {
          "base_uri": "https://localhost:8080/",
          "height": 282
        },
        "id": "deadly-melissa",
        "outputId": "35cf021b-dfe0-46e6-92c6-56f2bd130308"
      },
      "outputs": [
        {
          "output_type": "stream",
          "name": "stdout",
          "text": [
            "223/223 [==============================] - 1s 5ms/step - loss: 0.0490 - accuracy: 0.6187\n"
          ]
        },
        {
          "output_type": "display_data",
          "data": {
            "image/png": "[encoded data removed]",
            "text/plain": [
              "<Figure size 432x288 with 1 Axes>"
            ]
          },
          "metadata": {
            "needs_background": "light"
          }
        }
      ],
      "source": [
        "gender_model = build_model(2, activation='sigmoid', loss='mean_squared_logarithmic_error')\n",
        "\n",
        "gender_history = gender_model.fit(\n",
        "    X_gender_train,\n",
        "    y_gender_train,\n",
        "    validation_split=0.2,\n",
        "    batch_size=5000,\n",
        "    epochs=50,\n",
        "    callbacks=[tf.keras.callbacks.ReduceLROnPlateau()],\n",
        "    verbose=0\n",
        ")\n",
        "\n",
        "x = np.linspace(0, 50, 50)\n",
        "plt.plot(x, gender_history.history['loss'])\n",
        "plt.plot(x, gender_history.history['val_loss'])\n",
        "\n",
        "gender_acc = gender_model.evaluate(X_gender_test, y_gender_test)[1]"
      ]
    },
    {
      "cell_type": "code",
      "execution_count": 30,
      "id": "geographic-arrangement",
      "metadata": {
        "id": "geographic-arrangement"
      },
      "outputs": [],
      "source": [
        "## Activation: softmax, Loss: mean_squared_logarithmic_error"
      ]
    },
    {
      "cell_type": "code",
      "execution_count": 31,
      "id": "going-romantic",
      "metadata": {
        "colab": {
          "base_uri": "https://localhost:8080/",
          "height": 282
        },
        "id": "going-romantic",
        "outputId": "880a27c4-9dff-4a75-b855-097170408c85"
      },
      "outputs": [
        {
          "output_type": "stream",
          "name": "stdout",
          "text": [
            "223/223 [==============================] - 1s 5ms/step - loss: 0.1250 - accuracy: 0.5855\n"
          ]
        },
        {
          "output_type": "display_data",
          "data": {
            "image/png": "[encoded data removed]",
            "text/plain": [
              "<Figure size 432x288 with 1 Axes>"
            ]
          },
          "metadata": {
            "needs_background": "light"
          }
        }
      ],
      "source": [
        "gender_model = build_model(2, activation='softmax', loss='mean_squared_logarithmic_error')\n",
        "\n",
        "gender_history = gender_model.fit(\n",
        "    X_gender_train,\n",
        "    y_gender_train,\n",
        "    validation_split=0.2,\n",
        "    batch_size=5000,\n",
        "    epochs=50,\n",
        "    callbacks=[tf.keras.callbacks.ReduceLROnPlateau()],\n",
        "    verbose=0\n",
        ")\n",
        "\n",
        "x = np.linspace(0, 50, 50)\n",
        "plt.plot(x, gender_history.history['loss'])\n",
        "plt.plot(x, gender_history.history['val_loss'])\n",
        "\n",
        "gender_acc = gender_model.evaluate(X_gender_test, y_gender_test)[1]"
      ]
    },
    {
      "cell_type": "code",
      "execution_count": 32,
      "id": "reasonable-mouth",
      "metadata": {
        "id": "reasonable-mouth"
      },
      "outputs": [],
      "source": [
        "## Activation: relu, Loss: mean_squared_logarithmic_error"
      ]
    },
    {
      "cell_type": "code",
      "execution_count": 33,
      "id": "engaging-possession",
      "metadata": {
        "colab": {
          "base_uri": "https://localhost:8080/",
          "height": 282
        },
        "id": "engaging-possession",
        "outputId": "d53b0441-2378-4691-950b-b50102b0848c"
      },
      "outputs": [
        {
          "output_type": "stream",
          "name": "stdout",
          "text": [
            "223/223 [==============================] - 1s 5ms/step - loss: 0.0521 - accuracy: 0.6136\n"
          ]
        },
        {
          "output_type": "display_data",
          "data": {
            "image/png": "[encoded data removed]",
            "text/plain": [
              "<Figure size 432x288 with 1 Axes>"
            ]
          },
          "metadata": {
            "needs_background": "light"
          }
        }
      ],
      "source": [
        "gender_model = build_model(2, activation='relu', loss='mean_squared_logarithmic_error')\n",
        "\n",
        "gender_history = gender_model.fit(\n",
        "    X_gender_train,\n",
        "    y_gender_train,\n",
        "    validation_split=0.2,\n",
        "    batch_size=5000,\n",
        "    epochs=50,\n",
        "    callbacks=[tf.keras.callbacks.ReduceLROnPlateau()],\n",
        "    verbose=0\n",
        ")\n",
        "\n",
        "x = np.linspace(0, 50, 50)\n",
        "plt.plot(x, gender_history.history['loss'])\n",
        "plt.plot(x, gender_history.history['val_loss'])\n",
        "\n",
        "gender_acc = gender_model.evaluate(X_gender_test, y_gender_test)[1]"
      ]
    },
    {
      "cell_type": "code",
      "execution_count": 34,
      "id": "independent-gateway",
      "metadata": {
        "id": "independent-gateway"
      },
      "outputs": [],
      "source": [
        "## Gender Training Fix Loss: mean_absolute_error"
      ]
    },
    {
      "cell_type": "code",
      "execution_count": 35,
      "id": "terminal-hepatitis",
      "metadata": {
        "id": "terminal-hepatitis"
      },
      "outputs": [],
      "source": [
        "## Activation: sigmoid, Loss: mean_absolute_error"
      ]
    },
    {
      "cell_type": "code",
      "execution_count": 36,
      "id": "gorgeous-blogger",
      "metadata": {
        "colab": {
          "base_uri": "https://localhost:8080/",
          "height": 282
        },
        "id": "gorgeous-blogger",
        "outputId": "24e83ca9-21ec-4053-d546-0e4011ab9e33"
      },
      "outputs": [
        {
          "output_type": "stream",
          "name": "stdout",
          "text": [
            "223/223 [==============================] - 1s 5ms/step - loss: 0.1785 - accuracy: 0.1921\n"
          ]
        },
        {
          "output_type": "display_data",
          "data": {
            "image/png": "[encoded data removed]",
            "text/plain": [
              "<Figure size 432x288 with 1 Axes>"
            ]
          },
          "metadata": {
            "needs_background": "light"
          }
        }
      ],
      "source": [
        "gender_model = build_model(2, activation='sigmoid', loss='mean_absolute_error')\n",
        "\n",
        "gender_history = gender_model.fit(\n",
        "    X_gender_train,\n",
        "    y_gender_train,\n",
        "    validation_split=0.2,\n",
        "    batch_size=5000,\n",
        "    epochs=50,\n",
        "    callbacks=[tf.keras.callbacks.ReduceLROnPlateau()],\n",
        "    verbose=0\n",
        ")\n",
        "\n",
        "x = np.linspace(0, 50, 50)\n",
        "plt.plot(x, gender_history.history['loss'])\n",
        "plt.plot(x, gender_history.history['val_loss'])\n",
        "\n",
        "gender_acc = gender_model.evaluate(X_gender_test, y_gender_test)[1]"
      ]
    },
    {
      "cell_type": "code",
      "execution_count": 37,
      "id": "funny-funeral",
      "metadata": {
        "id": "funny-funeral"
      },
      "outputs": [],
      "source": [
        "## Activation: softmax, Loss: mean_absolute_error"
      ]
    },
    {
      "cell_type": "code",
      "execution_count": 38,
      "id": "vital-gazette",
      "metadata": {
        "colab": {
          "base_uri": "https://localhost:8080/",
          "height": 282
        },
        "id": "vital-gazette",
        "outputId": "8e828e88-0e00-4234-aaaa-bbb7b65f7177"
      },
      "outputs": [
        {
          "output_type": "stream",
          "name": "stdout",
          "text": [
            "223/223 [==============================] - 1s 5ms/step - loss: 0.5000 - accuracy: 0.5176\n"
          ]
        },
        {
          "output_type": "display_data",
          "data": {
            "image/png": "[encoded data removed]",
            "text/plain": [
              "<Figure size 432x288 with 1 Axes>"
            ]
          },
          "metadata": {
            "needs_background": "light"
          }
        }
      ],
      "source": [
        "gender_model = build_model(2, activation='softmax', loss='mean_absolute_error')\n",
        "\n",
        "gender_history = gender_model.fit(\n",
        "    X_gender_train,\n",
        "    y_gender_train,\n",
        "    validation_split=0.2,\n",
        "    batch_size=5000,\n",
        "    epochs=50,\n",
        "    callbacks=[tf.keras.callbacks.ReduceLROnPlateau()],\n",
        "    verbose=0\n",
        ")\n",
        "\n",
        "x = np.linspace(0, 50, 50)\n",
        "plt.plot(x, gender_history.history['loss'])\n",
        "plt.plot(x, gender_history.history['val_loss'])\n",
        "\n",
        "gender_acc = gender_model.evaluate(X_gender_test, y_gender_test)[1]"
      ]
    },
    {
      "cell_type": "code",
      "execution_count": 39,
      "id": "convertible-restriction",
      "metadata": {
        "id": "convertible-restriction"
      },
      "outputs": [],
      "source": [
        "## Activation: relu, Loss: mean_absolute_error"
      ]
    },
    {
      "cell_type": "code",
      "execution_count": 40,
      "id": "stuck-delay",
      "metadata": {
        "colab": {
          "base_uri": "https://localhost:8080/",
          "height": 282
        },
        "id": "stuck-delay",
        "outputId": "36756162-bc12-4dc0-d3ed-220b457d4d65"
      },
      "outputs": [
        {
          "output_type": "stream",
          "name": "stdout",
          "text": [
            "223/223 [==============================] - 1s 4ms/step - loss: 0.4824 - accuracy: 0.5176\n"
          ]
        },
        {
          "output_type": "display_data",
          "data": {
            "image/png": "[encoded data removed]",
            "text/plain": [
              "<Figure size 432x288 with 1 Axes>"
            ]
          },
          "metadata": {
            "needs_background": "light"
          }
        }
      ],
      "source": [
        "gender_model = build_model(2, activation='relu', loss='mean_absolute_error')\n",
        "\n",
        "gender_history = gender_model.fit(\n",
        "    X_gender_train,\n",
        "    y_gender_train,\n",
        "    validation_split=0.2,\n",
        "    batch_size=5000,\n",
        "    epochs=50,\n",
        "    callbacks=[tf.keras.callbacks.ReduceLROnPlateau()],\n",
        "    verbose=0\n",
        ")\n",
        "\n",
        "x = np.linspace(0, 50, 50)\n",
        "plt.plot(x, gender_history.history['loss'])\n",
        "plt.plot(x, gender_history.history['val_loss'])\n",
        "\n",
        "gender_acc = gender_model.evaluate(X_gender_test, y_gender_test)[1]"
      ]
    },
    {
      "cell_type": "code",
      "execution_count": 41,
      "id": "tough-character",
      "metadata": {
        "id": "tough-character"
      },
      "outputs": [],
      "source": [
        "## Gender Training Fix Loss: categorical_hinge"
      ]
    },
    {
      "cell_type": "code",
      "execution_count": 42,
      "id": "narrative-luxembourg",
      "metadata": {
        "id": "narrative-luxembourg"
      },
      "outputs": [],
      "source": [
        "## Activation: sigmoid, Loss: categorical_hinge"
      ]
    },
    {
      "cell_type": "code",
      "execution_count": 43,
      "id": "rental-threshold",
      "metadata": {
        "colab": {
          "base_uri": "https://localhost:8080/",
          "height": 282
        },
        "id": "rental-threshold",
        "outputId": "7072f4bd-120e-4af1-dce6-3c9accd6a8a5"
      },
      "outputs": [
        {
          "output_type": "stream",
          "name": "stdout",
          "text": [
            "223/223 [==============================] - 1s 5ms/step - loss: 0.6574 - accuracy: 0.4416\n"
          ]
        },
        {
          "output_type": "display_data",
          "data": {
            "image/png": "[encoded data removed]",
            "text/plain": [
              "<Figure size 432x288 with 1 Axes>"
            ]
          },
          "metadata": {
            "needs_background": "light"
          }
        }
      ],
      "source": [
        "gender_model = build_model(2, activation='sigmoid', loss='categorical_hinge')\n",
        "\n",
        "gender_history = gender_model.fit(\n",
        "    X_gender_train,\n",
        "    y_gender_train,\n",
        "    validation_split=0.2,\n",
        "    batch_size=5000,\n",
        "    epochs=50,\n",
        "    callbacks=[tf.keras.callbacks.ReduceLROnPlateau()],\n",
        "    verbose=0\n",
        ")\n",
        "\n",
        "x = np.linspace(0, 50, 50)\n",
        "plt.plot(x, gender_history.history['loss'])\n",
        "plt.plot(x, gender_history.history['val_loss'])\n",
        "\n",
        "gender_acc = gender_model.evaluate(X_gender_test, y_gender_test)[1]"
      ]
    },
    {
      "cell_type": "code",
      "execution_count": 44,
      "id": "representative-alexandria",
      "metadata": {
        "id": "representative-alexandria"
      },
      "outputs": [],
      "source": [
        "## Activation: softmax, Loss: categorical_hinge"
      ]
    },
    {
      "cell_type": "code",
      "execution_count": 45,
      "id": "exempt-banking",
      "metadata": {
        "colab": {
          "base_uri": "https://localhost:8080/",
          "height": 282
        },
        "id": "exempt-banking",
        "outputId": "1890711a-c6a0-4dcf-db8d-385aa823756c"
      },
      "outputs": [
        {
          "output_type": "stream",
          "name": "stdout",
          "text": [
            "223/223 [==============================] - 1s 5ms/step - loss: 0.7764 - accuracy: 0.5280\n"
          ]
        },
        {
          "output_type": "display_data",
          "data": {
            "image/png": "[encoded data removed]",
            "text/plain": [
              "<Figure size 432x288 with 1 Axes>"
            ]
          },
          "metadata": {
            "needs_background": "light"
          }
        }
      ],
      "source": [
        "gender_model = build_model(2, activation='softmax', loss='categorical_hinge')\n",
        "\n",
        "gender_history = gender_model.fit(\n",
        "    X_gender_train,\n",
        "    y_gender_train,\n",
        "    validation_split=0.2,\n",
        "    batch_size=5000,\n",
        "    epochs=50,\n",
        "    callbacks=[tf.keras.callbacks.ReduceLROnPlateau()],\n",
        "    verbose=0\n",
        ")\n",
        "\n",
        "x = np.linspace(0, 50, 50)\n",
        "plt.plot(x, gender_history.history['loss'])\n",
        "plt.plot(x, gender_history.history['val_loss'])\n",
        "\n",
        "gender_acc = gender_model.evaluate(X_gender_test, y_gender_test)[1]"
      ]
    },
    {
      "cell_type": "code",
      "execution_count": 46,
      "id": "experienced-detective",
      "metadata": {
        "id": "experienced-detective"
      },
      "outputs": [],
      "source": [
        "## Activation: relu, Loss: categorical_hinge"
      ]
    },
    {
      "cell_type": "code",
      "execution_count": 47,
      "id": "encouraging-herald",
      "metadata": {
        "colab": {
          "base_uri": "https://localhost:8080/",
          "height": 282
        },
        "id": "encouraging-herald",
        "outputId": "fde1da64-3c19-49ef-9e5e-68c0fa762918"
      },
      "outputs": [
        {
          "output_type": "stream",
          "name": "stdout",
          "text": [
            "223/223 [==============================] - 1s 4ms/step - loss: 0.6291 - accuracy: 0.6056\n"
          ]
        },
        {
          "output_type": "display_data",
          "data": {
            "image/png": "[encoded data removed]",
            "text/plain": [
              "<Figure size 432x288 with 1 Axes>"
            ]
          },
          "metadata": {
            "needs_background": "light"
          }
        }
      ],
      "source": [
        "gender_model = build_model(2, activation='relu', loss='categorical_hinge')\n",
        "\n",
        "gender_history = gender_model.fit(\n",
        "    X_gender_train,\n",
        "    y_gender_train,\n",
        "    validation_split=0.2,\n",
        "    batch_size=5000,\n",
        "    epochs=50,\n",
        "    callbacks=[tf.keras.callbacks.ReduceLROnPlateau()],\n",
        "    verbose=0\n",
        ")\n",
        "\n",
        "x = np.linspace(0, 50, 50)\n",
        "plt.plot(x, gender_history.history['loss'])\n",
        "plt.plot(x, gender_history.history['val_loss'])\n",
        "\n",
        "gender_acc = gender_model.evaluate(X_gender_test, y_gender_test)[1]"
      ]
    },
    {
      "cell_type": "code",
      "execution_count": 48,
      "id": "usual-filling",
      "metadata": {
        "id": "usual-filling"
      },
      "outputs": [],
      "source": [
        "## Gender Training Fix Loss: logcosh"
      ]
    },
    {
      "cell_type": "code",
      "execution_count": 49,
      "id": "southwest-colorado",
      "metadata": {
        "id": "southwest-colorado"
      },
      "outputs": [],
      "source": [
        "## Activation: sigmoid, Loss: logcosh"
      ]
    },
    {
      "cell_type": "code",
      "execution_count": 50,
      "id": "necessary-singapore",
      "metadata": {
        "colab": {
          "base_uri": "https://localhost:8080/",
          "height": 282
        },
        "id": "necessary-singapore",
        "outputId": "d0d98cb4-51e3-4f31-cb32-47c7b07098bb"
      },
      "outputs": [
        {
          "output_type": "stream",
          "name": "stdout",
          "text": [
            "223/223 [==============================] - 1s 5ms/step - loss: 0.0498 - accuracy: 0.5208\n"
          ]
        },
        {
          "output_type": "display_data",
          "data": {
            "image/png": "[encoded data removed]",
            "text/plain": [
              "<Figure size 432x288 with 1 Axes>"
            ]
          },
          "metadata": {
            "needs_background": "light"
          }
        }
      ],
      "source": [
        "gender_model = build_model(2, activation='sigmoid', loss='logcosh')\n",
        "\n",
        "gender_history = gender_model.fit(\n",
        "    X_gender_train,\n",
        "    y_gender_train,\n",
        "    validation_split=0.2,\n",
        "    batch_size=5000,\n",
        "    epochs=50,\n",
        "    callbacks=[tf.keras.callbacks.ReduceLROnPlateau()],\n",
        "    verbose=0\n",
        ")\n",
        "\n",
        "x = np.linspace(0, 50, 50)\n",
        "plt.plot(x, gender_history.history['loss'])\n",
        "plt.plot(x, gender_history.history['val_loss'])\n",
        "\n",
        "gender_acc = gender_model.evaluate(X_gender_test, y_gender_test)[1]"
      ]
    },
    {
      "cell_type": "code",
      "execution_count": 51,
      "id": "exact-rendering",
      "metadata": {
        "id": "exact-rendering"
      },
      "outputs": [],
      "source": [
        "## Activation: softmax, Loss: logcosh"
      ]
    },
    {
      "cell_type": "code",
      "execution_count": 52,
      "id": "velvet-marketplace",
      "metadata": {
        "colab": {
          "base_uri": "https://localhost:8080/",
          "height": 285
        },
        "id": "velvet-marketplace",
        "outputId": "b8243a4d-511a-43f5-bf3d-f5ae640d565d"
      },
      "outputs": [
        {
          "output_type": "stream",
          "name": "stdout",
          "text": [
            "223/223 [==============================] - 1s 5ms/step - loss: 0.1201 - accuracy: 0.5436\n"
          ]
        },
        {
          "output_type": "display_data",
          "data": {
            "image/png": "[encoded data removed]",
            "text/plain": [
              "<Figure size 432x288 with 1 Axes>"
            ]
          },
          "metadata": {
            "needs_background": "light"
          }
        }
      ],
      "source": [
        "gender_model = build_model(2, activation='softmax', loss='logcosh')\n",
        "\n",
        "gender_history = gender_model.fit(\n",
        "    X_gender_train,\n",
        "    y_gender_train,\n",
        "    validation_split=0.2,\n",
        "    batch_size=5000,\n",
        "    epochs=50,\n",
        "    callbacks=[tf.keras.callbacks.ReduceLROnPlateau()],\n",
        "    verbose=0\n",
        ")\n",
        "\n",
        "x = np.linspace(0, 50, 50)\n",
        "plt.plot(x, gender_history.history['loss'])\n",
        "plt.plot(x, gender_history.history['val_loss'])\n",
        "\n",
        "gender_acc = gender_model.evaluate(X_gender_test, y_gender_test)[1]"
      ]
    },
    {
      "cell_type": "code",
      "execution_count": 53,
      "id": "inside-protocol",
      "metadata": {
        "id": "inside-protocol"
      },
      "outputs": [],
      "source": [
        "## Activation: relu, Loss: logcosh"
      ]
    },
    {
      "cell_type": "code",
      "execution_count": 54,
      "id": "fatal-coordinate",
      "metadata": {
        "colab": {
          "base_uri": "https://localhost:8080/",
          "height": 282
        },
        "id": "fatal-coordinate",
        "outputId": "5bd56f15-6455-4577-e0f8-479b54423871"
      },
      "outputs": [
        {
          "output_type": "stream",
          "name": "stdout",
          "text": [
            "223/223 [==============================] - 1s 5ms/step - loss: 0.0501 - accuracy: 0.4893\n"
          ]
        },
        {
          "output_type": "display_data",
          "data": {
            "image/png": "[encoded data removed]",
            "text/plain": [
              "<Figure size 432x288 with 1 Axes>"
            ]
          },
          "metadata": {
            "needs_background": "light"
          }
        }
      ],
      "source": [
        "gender_model = build_model(2, activation='relu', loss='logcosh')\n",
        "\n",
        "gender_history = gender_model.fit(\n",
        "    X_gender_train,\n",
        "    y_gender_train,\n",
        "    validation_split=0.2,\n",
        "    batch_size=5000,\n",
        "    epochs=50,\n",
        "    callbacks=[tf.keras.callbacks.ReduceLROnPlateau()],\n",
        "    verbose=0\n",
        ")\n",
        "\n",
        "x = np.linspace(0, 50, 50)\n",
        "plt.plot(x, gender_history.history['loss'])\n",
        "plt.plot(x, gender_history.history['val_loss'])\n",
        "\n",
        "gender_acc = gender_model.evaluate(X_gender_test, y_gender_test)[1]"
      ]
    },
    {
      "cell_type": "code",
      "execution_count": 54,
      "id": "adapted-checkout",
      "metadata": {
        "id": "adapted-checkout"
      },
      "outputs": [],
      "source": [
        ""
      ]
    }
  ],
  "metadata": {
    "kernelspec": {
      "display_name": "Python 3",
      "language": "python",
      "name": "python3"
    },
    "language_info": {
      "codemirror_mode": {
        "name": "ipython",
        "version": 3
      },
      "file_extension": ".py",
      "mimetype": "text/x-python",
      "name": "python",
      "nbconvert_exporter": "python",
      "pygments_lexer": "ipython3",
      "version": "3.8.6"
    },
    "colab": {
      "name": "DLProjectGender-New.ipynb",
      "provenance": [],
      "collapsed_sections": [
        "cooked-gentleman",
        "helpful-caution",
        "altered-joint",
        "black-appearance"
      ]
    },
    "accelerator": "GPU"
  },
  "nbformat": 4,
  "nbformat_minor": 5
}