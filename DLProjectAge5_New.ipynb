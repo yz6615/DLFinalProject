{
  "cells": [
    {
      "cell_type": "code",
      "execution_count": 1,
      "id": "assisted-breathing",
      "metadata": {
        "id": "assisted-breathing"
      },
      "outputs": [],
      "source": [
        "import numpy as np\n",
        "import pandas as pd\n",
        "import matplotlib.pyplot as plt\n",
        "import plotly.express as px\n",
        "\n",
        "from sklearn.model_selection import train_test_split\n",
        "\n",
        "import tensorflow as tf"
      ]
    },
    {
      "cell_type": "markdown",
      "id": "hearing-inside",
      "metadata": {
        "id": "hearing-inside"
      },
      "source": [
        "# READ DATA"
      ]
    },
    {
      "cell_type": "code",
      "source": [
        "from google.colab import drive\n",
        "drive.mount('/content/drive')"
      ],
      "metadata": {
        "colab": {
          "base_uri": "https://localhost:8080/"
        },
        "id": "nLE3YINUvjDW",
        "outputId": "81554987-f68d-4a4b-b6ca-22cafc9aaf9b"
      },
      "id": "nLE3YINUvjDW",
      "execution_count": 2,
      "outputs": [
        {
          "output_type": "stream",
          "name": "stdout",
          "text": [
            "Mounted at /content/drive\n"
          ]
        }
      ]
    },
    {
      "cell_type": "code",
      "execution_count": 3,
      "id": "senior-thumb",
      "metadata": {
        "id": "senior-thumb"
      },
      "outputs": [],
      "source": [
        "data = pd.read_csv('/content/drive/MyDrive/Colab Notebooks/age_gender.csv')"
      ]
    },
    {
      "cell_type": "markdown",
      "id": "vietnamese-queue",
      "metadata": {
        "id": "vietnamese-queue"
      },
      "source": [
        "# DATA PROCESSING"
      ]
    },
    {
      "cell_type": "code",
      "execution_count": 4,
      "id": "studied-mapping",
      "metadata": {
        "id": "studied-mapping"
      },
      "outputs": [],
      "source": [
        "data = data.drop('img_name', axis=1)"
      ]
    },
    {
      "cell_type": "code",
      "execution_count": 5,
      "id": "joined-contribution",
      "metadata": {
        "id": "joined-contribution"
      },
      "outputs": [],
      "source": [
        "data['age'] = pd.qcut(data['age'], q=5, labels=[0, 1, 2, 3, 4])"
      ]
    },
    {
      "cell_type": "code",
      "execution_count": 6,
      "id": "republican-discovery",
      "metadata": {
        "colab": {
          "base_uri": "https://localhost:8080/"
        },
        "id": "republican-discovery",
        "outputId": "1c878a84-0a46-42ab-a76d-eb7c17703440"
      },
      "outputs": [
        {
          "output_type": "execute_result",
          "data": {
            "text/plain": [
              "48.0"
            ]
          },
          "metadata": {},
          "execution_count": 6
        }
      ],
      "source": [
        "np.sqrt(len(data['pixels'][0].split(' ')))"
      ]
    },
    {
      "cell_type": "code",
      "execution_count": 7,
      "id": "comic-parade",
      "metadata": {
        "id": "comic-parade"
      },
      "outputs": [],
      "source": [
        "num_pixels = 2304\n",
        "img_height = 48\n",
        "img_width = 48"
      ]
    },
    {
      "cell_type": "code",
      "execution_count": 8,
      "id": "thirty-mayor",
      "metadata": {
        "id": "thirty-mayor"
      },
      "outputs": [],
      "source": [
        "target_columns = ['gender', 'ethnicity', 'age']\n",
        "\n",
        "y = data[target_columns]\n",
        "X = data.drop(target_columns, axis=1)"
      ]
    },
    {
      "cell_type": "markdown",
      "id": "seeing-purple",
      "metadata": {
        "id": "seeing-purple"
      },
      "source": [
        "# RESHAPE X"
      ]
    },
    {
      "cell_type": "code",
      "execution_count": 9,
      "id": "contrary-savage",
      "metadata": {
        "id": "contrary-savage"
      },
      "outputs": [],
      "source": [
        "X = data['pixels'].str.split(' ', expand=True)"
      ]
    },
    {
      "cell_type": "code",
      "execution_count": 10,
      "id": "compound-candy",
      "metadata": {
        "id": "compound-candy"
      },
      "outputs": [],
      "source": [
        "X = np.array(X).astype(int)\n",
        "X = np.array([a.reshape(48, 48) for a in X])"
      ]
    },
    {
      "cell_type": "code",
      "execution_count": 11,
      "id": "coated-simpson",
      "metadata": {
        "colab": {
          "base_uri": "https://localhost:8080/"
        },
        "id": "coated-simpson",
        "outputId": "f8d31d58-0fb3-43de-ffad-64336a2123b0"
      },
      "outputs": [
        {
          "output_type": "execute_result",
          "data": {
            "text/plain": [
              "(23705, 48, 48)"
            ]
          },
          "metadata": {},
          "execution_count": 11
        }
      ],
      "source": [
        "X.shape"
      ]
    },
    {
      "cell_type": "markdown",
      "id": "enabling-concentration",
      "metadata": {
        "id": "enabling-concentration"
      },
      "source": [
        "# Training"
      ]
    },
    {
      "cell_type": "code",
      "execution_count": 12,
      "id": "impressive-fifteen",
      "metadata": {
        "id": "impressive-fifteen"
      },
      "outputs": [],
      "source": [
        "y_gender = np.array(y['gender'])\n",
        "y_ethnicity = np.array(y['ethnicity'])\n",
        "y_age = np.array(y['age'])"
      ]
    },
    {
      "cell_type": "code",
      "execution_count": 13,
      "id": "comfortable-thailand",
      "metadata": {
        "colab": {
          "base_uri": "https://localhost:8080/"
        },
        "id": "comfortable-thailand",
        "outputId": "d37c230e-3ca7-4b84-97ba-50a78444e3f0"
      },
      "outputs": [
        {
          "output_type": "execute_result",
          "data": {
            "text/plain": [
              "23705"
            ]
          },
          "metadata": {},
          "execution_count": 13
        }
      ],
      "source": [
        "len(y_ethnicity)"
      ]
    },
    {
      "cell_type": "markdown",
      "id": "cooked-gentleman",
      "metadata": {
        "id": "cooked-gentleman"
      },
      "source": [
        "## Model Def"
      ]
    },
    {
      "cell_type": "code",
      "execution_count": 14,
      "id": "mineral-button",
      "metadata": {
        "id": "mineral-button"
      },
      "outputs": [],
      "source": [
        "def build_model(num_classes, activation, loss):\n",
        "    \n",
        "    inputs = tf.keras.Input(shape=(img_height, img_width, 1))\n",
        "    x = tf.keras.layers.experimental.preprocessing.Rescaling(1./255)(inputs)\n",
        "    x = tf.keras.layers.Conv2D(16, 3, padding='same', activation='relu')(x)\n",
        "    x = tf.keras.layers.MaxPooling2D()(x)\n",
        "    x = tf.keras.layers.Conv2D(32, 3, padding='same', activation='relu')(x)\n",
        "    x = tf.keras.layers.MaxPooling2D()(x)\n",
        "    x = tf.keras.layers.Conv2D(64, 3, padding='same', activation='relu')(x)\n",
        "    x = tf.keras.layers.MaxPooling2D()(x)\n",
        "    x = tf.keras.layers.Flatten()(x)\n",
        "    x = tf.keras.layers.Dense(128, activation='relu')(x)\n",
        "    outputs = tf.keras.layers.Dense(num_classes, activation=activation)(x)\n",
        "    \n",
        "    model = tf.keras.Model(inputs=inputs, outputs=outputs)\n",
        "    \n",
        "    \n",
        "    model.compile(\n",
        "        optimizer='adam',\n",
        "        loss=loss,\n",
        "        metrics=['accuracy']\n",
        "    )\n",
        "    \n",
        "    return model"
      ]
    },
    {
      "cell_type": "code",
      "execution_count": 15,
      "id": "postal-spread",
      "metadata": {
        "colab": {
          "base_uri": "https://localhost:8080/"
        },
        "id": "postal-spread",
        "outputId": "f6b17030-cc74-48a1-effa-75a0a58403b8"
      },
      "outputs": [
        {
          "output_type": "execute_result",
          "data": {
            "text/plain": [
              "{'age': [0, 4, 1, 2, 3], 'ethnicity': [2, 3, 4, 0, 1], 'gender': [0, 1]}"
            ]
          },
          "metadata": {},
          "execution_count": 15
        }
      ],
      "source": [
        "{column: list(data[column].unique()) for column in ['gender', 'ethnicity', 'age']}"
      ]
    },
    {
      "cell_type": "code",
      "execution_count": 16,
      "id": "temporal-password",
      "metadata": {
        "id": "temporal-password"
      },
      "outputs": [],
      "source": [
        "X_gender_train, X_gender_test, y_gender_train, y_gender_test = train_test_split(X, y_gender, train_size=0.7)\n",
        "X_ethnicity_train, X_ethnicity_test, y_ethnicity_train, y_ethnicity_test = train_test_split(X, y_ethnicity, train_size=0.7)\n",
        "X_age_train, X_age_test, y_age_train, y_age_test = train_test_split(X, y_age, train_size=0.7)"
      ]
    },
    {
      "cell_type": "markdown",
      "id": "helpful-caution",
      "metadata": {
        "id": "helpful-caution"
      },
      "source": [
        "## Age Training Fix Loss: binary_crossentropy (NOT WORKING)"
      ]
    },
    {
      "cell_type": "markdown",
      "id": "existing-harassment",
      "metadata": {
        "id": "existing-harassment"
      },
      "source": [
        "## Age Training Fix Loss: sparse_categorical_crossentropy"
      ]
    },
    {
      "cell_type": "markdown",
      "id": "helpful-georgia",
      "metadata": {
        "id": "helpful-georgia"
      },
      "source": [
        "## Activation: sigmoid, Loss: sparse_categorical_crossentropy"
      ]
    },
    {
      "cell_type": "code",
      "execution_count": 17,
      "id": "checked-provision",
      "metadata": {
        "colab": {
          "base_uri": "https://localhost:8080/",
          "height": 282
        },
        "id": "checked-provision",
        "outputId": "415b5100-3665-4dd9-ea63-6c1ff8190acf"
      },
      "outputs": [
        {
          "output_type": "stream",
          "name": "stdout",
          "text": [
            "223/223 [==============================] - 1s 5ms/step - loss: 1.1149 - accuracy: 0.5330\n"
          ]
        },
        {
          "output_type": "display_data",
          "data": {
            "image/png": "[encoded data removed]",
            "text/plain": [
              "<Figure size 432x288 with 1 Axes>"
            ]
          },
          "metadata": {
            "needs_background": "light"
          }
        }
      ],
      "source": [
        "age_model = build_model(5, activation='sigmoid', loss='sparse_categorical_crossentropy')\n",
        "\n",
        "age_history = age_model.fit(\n",
        "    X_age_train,\n",
        "    y_age_train,\n",
        "    validation_split=0.2,\n",
        "    batch_size=5000,\n",
        "    epochs=50,\n",
        "    callbacks=[tf.keras.callbacks.ReduceLROnPlateau()],\n",
        "    verbose=0\n",
        ")\n",
        "\n",
        "x = np.linspace(0, 50, 50)\n",
        "plt.plot(x, age_history.history['loss'])\n",
        "plt.plot(x, age_history.history['val_loss'])\n",
        "\n",
        "age_acc = age_model.evaluate(X_age_test, y_age_test)[1]"
      ]
    },
    {
      "cell_type": "markdown",
      "id": "universal-massage",
      "metadata": {
        "id": "universal-massage"
      },
      "source": [
        "## Activation: softmax, Loss: sparse_categorical_crossentropy"
      ]
    },
    {
      "cell_type": "code",
      "execution_count": 18,
      "id": "above-crown",
      "metadata": {
        "colab": {
          "base_uri": "https://localhost:8080/",
          "height": 282
        },
        "id": "above-crown",
        "outputId": "f99119c3-8452-4582-ea68-5ebf4e0a3396"
      },
      "outputs": [
        {
          "output_type": "stream",
          "name": "stdout",
          "text": [
            "223/223 [==============================] - 1s 5ms/step - loss: 1.1228 - accuracy: 0.5262\n"
          ]
        },
        {
          "output_type": "display_data",
          "data": {
            "image/png": "[encoded data removed]",
            "text/plain": [
              "<Figure size 432x288 with 1 Axes>"
            ]
          },
          "metadata": {
            "needs_background": "light"
          }
        }
      ],
      "source": [
        "age_model = build_model(5, activation='softmax', loss='sparse_categorical_crossentropy')\n",
        "\n",
        "age_history = age_model.fit(\n",
        "    X_age_train,\n",
        "    y_age_train,\n",
        "    validation_split=0.2,\n",
        "    batch_size=5000,\n",
        "    epochs=50,\n",
        "    callbacks=[tf.keras.callbacks.ReduceLROnPlateau()],\n",
        "    verbose=0\n",
        ")\n",
        "\n",
        "x = np.linspace(0, 50, 50)\n",
        "plt.plot(x, age_history.history['loss'])\n",
        "plt.plot(x, age_history.history['val_loss'])\n",
        "\n",
        "age_acc = age_model.evaluate(X_age_test, y_age_test)[1]"
      ]
    },
    {
      "cell_type": "markdown",
      "id": "integrated-margin",
      "metadata": {
        "id": "integrated-margin"
      },
      "source": [
        "## Activation: relu, Loss: sparse_categorical_crossentropy"
      ]
    },
    {
      "cell_type": "code",
      "execution_count": 19,
      "id": "complete-mauritius",
      "metadata": {
        "scrolled": true,
        "colab": {
          "base_uri": "https://localhost:8080/",
          "height": 282
        },
        "id": "complete-mauritius",
        "outputId": "4a7b3db6-b53b-45eb-fe9d-464ecf9f90af"
      },
      "outputs": [
        {
          "output_type": "stream",
          "name": "stdout",
          "text": [
            "223/223 [==============================] - 1s 5ms/step - loss: 1.6094 - accuracy: 0.2057\n"
          ]
        },
        {
          "output_type": "display_data",
          "data": {
            "image/png": "[encoded data removed]",
            "text/plain": [
              "<Figure size 432x288 with 1 Axes>"
            ]
          },
          "metadata": {
            "needs_background": "light"
          }
        }
      ],
      "source": [
        "age_model = build_model(5, activation='relu', loss='sparse_categorical_crossentropy')\n",
        "\n",
        "age_history = age_model.fit(\n",
        "    X_age_train,\n",
        "    y_age_train,\n",
        "    validation_split=0.2,\n",
        "    batch_size=5000,\n",
        "    epochs=50,\n",
        "    callbacks=[tf.keras.callbacks.ReduceLROnPlateau()],\n",
        "    verbose=0\n",
        ")\n",
        "\n",
        "x = np.linspace(0, 50, 50)\n",
        "plt.plot(x, age_history.history['loss'])\n",
        "plt.plot(x, age_history.history['val_loss'])\n",
        "\n",
        "age_acc = age_model.evaluate(X_age_test, y_age_test)[1]"
      ]
    },
    {
      "cell_type": "markdown",
      "id": "exclusive-cruise",
      "metadata": {
        "id": "exclusive-cruise"
      },
      "source": [
        "## Age Training Fix Loss: mean_squared_error"
      ]
    },
    {
      "cell_type": "markdown",
      "id": "interim-sterling",
      "metadata": {
        "id": "interim-sterling"
      },
      "source": [
        "## Activation: sigmoid, Loss: mean_squared_error"
      ]
    },
    {
      "cell_type": "code",
      "execution_count": 20,
      "id": "vietnamese-chancellor",
      "metadata": {
        "colab": {
          "base_uri": "https://localhost:8080/",
          "height": 282
        },
        "id": "vietnamese-chancellor",
        "outputId": "c10b49de-9309-4cc4-ff6a-a673f90a217c"
      },
      "outputs": [
        {
          "output_type": "stream",
          "name": "stdout",
          "text": [
            "223/223 [==============================] - 1s 5ms/step - loss: 2.9633 - accuracy: 0.2057\n"
          ]
        },
        {
          "output_type": "display_data",
          "data": {
            "image/png": "[encoded data removed]",
            "text/plain": [
              "<Figure size 432x288 with 1 Axes>"
            ]
          },
          "metadata": {
            "needs_background": "light"
          }
        }
      ],
      "source": [
        "age_model = build_model(5, activation='sigmoid', loss='mean_squared_error')\n",
        "\n",
        "age_history = age_model.fit(\n",
        "    X_age_train,\n",
        "    y_age_train,\n",
        "    validation_split=0.2,\n",
        "    batch_size=5000,\n",
        "    epochs=50,\n",
        "    callbacks=[tf.keras.callbacks.ReduceLROnPlateau()],\n",
        "    verbose=0\n",
        ")\n",
        "\n",
        "x = np.linspace(0, 50, 50)\n",
        "plt.plot(x, age_history.history['loss'])\n",
        "plt.plot(x, age_history.history['val_loss'])\n",
        "\n",
        "age_acc = age_model.evaluate(X_age_test, y_age_test)[1]"
      ]
    },
    {
      "cell_type": "markdown",
      "id": "regular-typing",
      "metadata": {
        "id": "regular-typing"
      },
      "source": [
        "## Activation: softmax, Loss: mean_squared_error"
      ]
    },
    {
      "cell_type": "code",
      "execution_count": 21,
      "id": "welsh-analysis",
      "metadata": {
        "colab": {
          "base_uri": "https://localhost:8080/",
          "height": 282
        },
        "id": "welsh-analysis",
        "outputId": "ccf287e7-0a4b-4826-a826-a8a2dd87ec94"
      },
      "outputs": [
        {
          "output_type": "stream",
          "name": "stdout",
          "text": [
            "223/223 [==============================] - 1s 5ms/step - loss: 5.1630 - accuracy: 0.1745\n"
          ]
        },
        {
          "output_type": "display_data",
          "data": {
            "image/png": "[encoded data removed]",
            "text/plain": [
              "<Figure size 432x288 with 1 Axes>"
            ]
          },
          "metadata": {
            "needs_background": "light"
          }
        }
      ],
      "source": [
        "age_model = build_model(5, activation='softmax', loss='mean_squared_error')\n",
        "\n",
        "age_history = age_model.fit(\n",
        "    X_age_train,\n",
        "    y_age_train,\n",
        "    validation_split=0.2,\n",
        "    batch_size=5000,\n",
        "    epochs=50,\n",
        "    callbacks=[tf.keras.callbacks.ReduceLROnPlateau()],\n",
        "    verbose=0\n",
        ")\n",
        "\n",
        "x = np.linspace(0, 50, 50)\n",
        "plt.plot(x, age_history.history['loss'])\n",
        "plt.plot(x, age_history.history['val_loss'])\n",
        "\n",
        "age_acc = age_model.evaluate(X_age_test, y_age_test)[1]"
      ]
    },
    {
      "cell_type": "markdown",
      "id": "brave-boutique",
      "metadata": {
        "id": "brave-boutique"
      },
      "source": [
        "## Activation: relu, Loss: mean_squared_error"
      ]
    },
    {
      "cell_type": "code",
      "execution_count": 22,
      "id": "informative-somewhere",
      "metadata": {
        "scrolled": true,
        "colab": {
          "base_uri": "https://localhost:8080/",
          "height": 282
        },
        "id": "informative-somewhere",
        "outputId": "864c427e-1010-44d1-9c8e-b5edd695a80b"
      },
      "outputs": [
        {
          "output_type": "stream",
          "name": "stdout",
          "text": [
            "223/223 [==============================] - 1s 5ms/step - loss: 2.2687 - accuracy: 0.3039\n"
          ]
        },
        {
          "output_type": "display_data",
          "data": {
            "image/png": "[encoded data removed]",
            "text/plain": [
              "<Figure size 432x288 with 1 Axes>"
            ]
          },
          "metadata": {
            "needs_background": "light"
          }
        }
      ],
      "source": [
        "age_model = build_model(5, activation='relu', loss='mean_squared_error')\n",
        "\n",
        "age_history = age_model.fit(\n",
        "    X_age_train,\n",
        "    y_age_train,\n",
        "    validation_split=0.2,\n",
        "    batch_size=5000,\n",
        "    epochs=50,\n",
        "    callbacks=[tf.keras.callbacks.ReduceLROnPlateau()],\n",
        "    verbose=0\n",
        ")\n",
        "\n",
        "x = np.linspace(0, 50, 50)\n",
        "plt.plot(x, age_history.history['loss'])\n",
        "plt.plot(x, age_history.history['val_loss'])\n",
        "\n",
        "age_acc = age_model.evaluate(X_age_test, y_age_test)[1]"
      ]
    },
    {
      "cell_type": "code",
      "execution_count": 23,
      "id": "magnetic-arrow",
      "metadata": {
        "id": "magnetic-arrow"
      },
      "outputs": [],
      "source": [
        "## Age Training Fix Loss: mean_squared_logarithmic_error"
      ]
    },
    {
      "cell_type": "code",
      "execution_count": 24,
      "id": "forced-grave",
      "metadata": {
        "id": "forced-grave"
      },
      "outputs": [],
      "source": [
        "## Activation: sigmoid, Loss: mean_squared_logarithmic_error"
      ]
    },
    {
      "cell_type": "code",
      "execution_count": 25,
      "id": "multiple-rebate",
      "metadata": {
        "colab": {
          "base_uri": "https://localhost:8080/",
          "height": 282
        },
        "id": "multiple-rebate",
        "outputId": "6d6030ee-7153-48af-f7ee-49b5a40842b1"
      },
      "outputs": [
        {
          "output_type": "stream",
          "name": "stdout",
          "text": [
            "223/223 [==============================] - 1s 5ms/step - loss: 0.3913 - accuracy: 0.2057\n"
          ]
        },
        {
          "output_type": "display_data",
          "data": {
            "image/png": "[encoded data removed]",
            "text/plain": [
              "<Figure size 432x288 with 1 Axes>"
            ]
          },
          "metadata": {
            "needs_background": "light"
          }
        }
      ],
      "source": [
        "age_model = build_model(5, activation='sigmoid', loss='mean_squared_logarithmic_error')\n",
        "\n",
        "age_history = age_model.fit(\n",
        "    X_age_train,\n",
        "    y_age_train,\n",
        "    validation_split=0.2,\n",
        "    batch_size=5000,\n",
        "    epochs=50,\n",
        "    callbacks=[tf.keras.callbacks.ReduceLROnPlateau()],\n",
        "    verbose=0\n",
        ")\n",
        "\n",
        "x = np.linspace(0, 50, 50)\n",
        "plt.plot(x, age_history.history['loss'])\n",
        "plt.plot(x, age_history.history['val_loss'])\n",
        "\n",
        "age_acc = age_model.evaluate(X_age_test, y_age_test)[1]"
      ]
    },
    {
      "cell_type": "code",
      "execution_count": 26,
      "id": "persistent-makeup",
      "metadata": {
        "id": "persistent-makeup"
      },
      "outputs": [],
      "source": [
        "## Activation: softmax, Loss: mean_squared_logarithmic_error"
      ]
    },
    {
      "cell_type": "code",
      "execution_count": 27,
      "id": "comic-dictionary",
      "metadata": {
        "colab": {
          "base_uri": "https://localhost:8080/",
          "height": 282
        },
        "id": "comic-dictionary",
        "outputId": "20982f31-5d42-417e-b87f-1741ebd85451"
      },
      "outputs": [
        {
          "output_type": "stream",
          "name": "stdout",
          "text": [
            "223/223 [==============================] - 1s 5ms/step - loss: 0.9113 - accuracy: 0.2035\n"
          ]
        },
        {
          "output_type": "display_data",
          "data": {
            "image/png": "[encoded data removed]",
            "text/plain": [
              "<Figure size 432x288 with 1 Axes>"
            ]
          },
          "metadata": {
            "needs_background": "light"
          }
        }
      ],
      "source": [
        "age_model = build_model(5, activation='softmax', loss='mean_squared_logarithmic_error')\n",
        "\n",
        "age_history = age_model.fit(\n",
        "    X_age_train,\n",
        "    y_age_train,\n",
        "    validation_split=0.2,\n",
        "    batch_size=5000,\n",
        "    epochs=50,\n",
        "    callbacks=[tf.keras.callbacks.ReduceLROnPlateau()],\n",
        "    verbose=0\n",
        ")\n",
        "\n",
        "x = np.linspace(0, 50, 50)\n",
        "plt.plot(x, age_history.history['loss'])\n",
        "plt.plot(x, age_history.history['val_loss'])\n",
        "\n",
        "age_acc = age_model.evaluate(X_age_test, y_age_test)[1]"
      ]
    },
    {
      "cell_type": "code",
      "execution_count": 28,
      "id": "sacred-editing",
      "metadata": {
        "id": "sacred-editing"
      },
      "outputs": [],
      "source": [
        "## Activation: relu, Loss: mean_squared_logarithmic_error"
      ]
    },
    {
      "cell_type": "code",
      "execution_count": 29,
      "id": "usual-melbourne",
      "metadata": {
        "colab": {
          "base_uri": "https://localhost:8080/",
          "height": 282
        },
        "id": "usual-melbourne",
        "outputId": "23472ef6-ac0b-4eaa-da87-2086c434b98e"
      },
      "outputs": [
        {
          "output_type": "stream",
          "name": "stdout",
          "text": [
            "223/223 [==============================] - 1s 5ms/step - loss: 0.2489 - accuracy: 0.2575\n"
          ]
        },
        {
          "output_type": "display_data",
          "data": {
            "image/png": "[encoded data removed]",
            "text/plain": [
              "<Figure size 432x288 with 1 Axes>"
            ]
          },
          "metadata": {
            "needs_background": "light"
          }
        }
      ],
      "source": [
        "age_model = build_model(5, activation='relu', loss='mean_squared_logarithmic_error')\n",
        "\n",
        "age_history = age_model.fit(\n",
        "    X_age_train,\n",
        "    y_age_train,\n",
        "    validation_split=0.2,\n",
        "    batch_size=5000,\n",
        "    epochs=50,\n",
        "    callbacks=[tf.keras.callbacks.ReduceLROnPlateau()],\n",
        "    verbose=0\n",
        ")\n",
        "\n",
        "x = np.linspace(0, 50, 50)\n",
        "plt.plot(x, age_history.history['loss'])\n",
        "plt.plot(x, age_history.history['val_loss'])\n",
        "\n",
        "age_acc = age_model.evaluate(X_age_test, y_age_test)[1]"
      ]
    },
    {
      "cell_type": "code",
      "execution_count": 30,
      "id": "inner-payment",
      "metadata": {
        "id": "inner-payment"
      },
      "outputs": [],
      "source": [
        "## Age Training Fix Loss: mean_absolute_error"
      ]
    },
    {
      "cell_type": "code",
      "execution_count": 31,
      "id": "everyday-display",
      "metadata": {
        "id": "everyday-display"
      },
      "outputs": [],
      "source": [
        "## Activation: sigmoid, Loss: mean_absolute_error"
      ]
    },
    {
      "cell_type": "code",
      "execution_count": 32,
      "id": "insured-jamaica",
      "metadata": {
        "colab": {
          "base_uri": "https://localhost:8080/",
          "height": 282
        },
        "id": "insured-jamaica",
        "outputId": "926cb25b-4abe-4639-cf57-f33b87a12f75"
      },
      "outputs": [
        {
          "output_type": "stream",
          "name": "stdout",
          "text": [
            "223/223 [==============================] - 1s 5ms/step - loss: 1.3862 - accuracy: 0.2057\n"
          ]
        },
        {
          "output_type": "display_data",
          "data": {
            "image/png": "[encoded data removed]",
            "text/plain": [
              "<Figure size 432x288 with 1 Axes>"
            ]
          },
          "metadata": {
            "needs_background": "light"
          }
        }
      ],
      "source": [
        "age_model = build_model(5, activation='sigmoid', loss='mean_absolute_error')\n",
        "\n",
        "age_history = age_model.fit(\n",
        "    X_age_train,\n",
        "    y_age_train,\n",
        "    validation_split=0.2,\n",
        "    batch_size=5000,\n",
        "    epochs=50,\n",
        "    callbacks=[tf.keras.callbacks.ReduceLROnPlateau()],\n",
        "    verbose=0\n",
        ")\n",
        "\n",
        "x = np.linspace(0, 50, 50)\n",
        "plt.plot(x, age_history.history['loss'])\n",
        "plt.plot(x, age_history.history['val_loss'])\n",
        "\n",
        "age_acc = age_model.evaluate(X_age_test, y_age_test)[1]"
      ]
    },
    {
      "cell_type": "code",
      "execution_count": 33,
      "id": "annual-aviation",
      "metadata": {
        "id": "annual-aviation"
      },
      "outputs": [],
      "source": [
        "## Activation: softmax, Loss: mean_absolute_error"
      ]
    },
    {
      "cell_type": "code",
      "execution_count": 35,
      "id": "involved-banking",
      "metadata": {
        "colab": {
          "base_uri": "https://localhost:8080/",
          "height": 282
        },
        "id": "involved-banking",
        "outputId": "c69ed3da-893e-4e3e-ba0d-04fe8aef87ff"
      },
      "outputs": [
        {
          "output_type": "stream",
          "name": "stdout",
          "text": [
            "223/223 [==============================] - 1s 5ms/step - loss: 1.8571 - accuracy: 0.1874\n"
          ]
        },
        {
          "output_type": "display_data",
          "data": {
            "image/png": "[encoded data removed]",
            "text/plain": [
              "<Figure size 432x288 with 1 Axes>"
            ]
          },
          "metadata": {
            "needs_background": "light"
          }
        }
      ],
      "source": [
        "age_model = build_model(5, activation='softmax', loss='mean_absolute_error')\n",
        "\n",
        "age_history = age_model.fit(\n",
        "    X_age_train,\n",
        "    y_age_train,\n",
        "    validation_split=0.2,\n",
        "    batch_size=5000,\n",
        "    epochs=50,\n",
        "    callbacks=[tf.keras.callbacks.ReduceLROnPlateau()],\n",
        "    verbose=0\n",
        ")\n",
        "\n",
        "x = np.linspace(0, 50, 50)\n",
        "plt.plot(x, age_history.history['loss'])\n",
        "plt.plot(x, age_history.history['val_loss'])\n",
        "\n",
        "age_acc = age_model.evaluate(X_age_test, y_age_test)[1]"
      ]
    },
    {
      "cell_type": "code",
      "execution_count": 36,
      "id": "emerging-shell",
      "metadata": {
        "id": "emerging-shell"
      },
      "outputs": [],
      "source": [
        "## Activation: relu, Loss: mean_absolute_error"
      ]
    },
    {
      "cell_type": "code",
      "execution_count": 37,
      "id": "broad-vocabulary",
      "metadata": {
        "colab": {
          "base_uri": "https://localhost:8080/",
          "height": 282
        },
        "id": "broad-vocabulary",
        "outputId": "1d8b8aaa-5223-469e-8075-2ff011127c1d"
      },
      "outputs": [
        {
          "output_type": "stream",
          "name": "stdout",
          "text": [
            "223/223 [==============================] - 1s 5ms/step - loss: 0.8984 - accuracy: 0.1343\n"
          ]
        },
        {
          "output_type": "display_data",
          "data": {
            "image/png": "[encoded data removed]",
            "text/plain": [
              "<Figure size 432x288 with 1 Axes>"
            ]
          },
          "metadata": {
            "needs_background": "light"
          }
        }
      ],
      "source": [
        "age_model = build_model(5, activation='relu', loss='mean_absolute_error')\n",
        "\n",
        "age_history = age_model.fit(\n",
        "    X_age_train,\n",
        "    y_age_train,\n",
        "    validation_split=0.2,\n",
        "    batch_size=5000,\n",
        "    epochs=50,\n",
        "    callbacks=[tf.keras.callbacks.ReduceLROnPlateau()],\n",
        "    verbose=0\n",
        ")\n",
        "\n",
        "x = np.linspace(0, 50, 50)\n",
        "plt.plot(x, age_history.history['loss'])\n",
        "plt.plot(x, age_history.history['val_loss'])\n",
        "\n",
        "age_acc = age_model.evaluate(X_age_test, y_age_test)[1]"
      ]
    },
    {
      "cell_type": "code",
      "execution_count": 38,
      "id": "diverse-blame",
      "metadata": {
        "id": "diverse-blame"
      },
      "outputs": [],
      "source": [
        "## Age Training Fix Loss: categorical_hinge"
      ]
    },
    {
      "cell_type": "code",
      "execution_count": 39,
      "id": "opposite-quantum",
      "metadata": {
        "id": "opposite-quantum"
      },
      "outputs": [],
      "source": [
        "## Activation: sigmoid, Loss: categorical_hinge"
      ]
    },
    {
      "cell_type": "code",
      "execution_count": 40,
      "id": "sexual-generation",
      "metadata": {
        "colab": {
          "base_uri": "https://localhost:8080/",
          "height": 282
        },
        "id": "sexual-generation",
        "outputId": "07d6d763-dfd8-410b-fb55-f616f6d55ece"
      },
      "outputs": [
        {
          "output_type": "stream",
          "name": "stdout",
          "text": [
            "223/223 [==============================] - 1s 5ms/step - loss: 0.2469 - accuracy: 0.2154\n"
          ]
        },
        {
          "output_type": "display_data",
          "data": {
            "image/png": "[encoded data removed]",
            "text/plain": [
              "<Figure size 432x288 with 1 Axes>"
            ]
          },
          "metadata": {
            "needs_background": "light"
          }
        }
      ],
      "source": [
        "age_model = build_model(5, activation='sigmoid', loss='categorical_hinge')\n",
        "\n",
        "age_history = age_model.fit(\n",
        "    X_age_train,\n",
        "    y_age_train,\n",
        "    validation_split=0.2,\n",
        "    batch_size=5000,\n",
        "    epochs=50,\n",
        "    verbose=0\n",
        ")\n",
        "\n",
        "x = np.linspace(0, 50, 50)\n",
        "plt.plot(x, age_history.history['loss'])\n",
        "plt.plot(x, age_history.history['val_loss'])\n",
        "\n",
        "age_acc = age_model.evaluate(X_age_test, y_age_test)[1]"
      ]
    },
    {
      "cell_type": "code",
      "execution_count": 41,
      "id": "future-belle",
      "metadata": {
        "id": "future-belle"
      },
      "outputs": [],
      "source": [
        "## Activation: softmax, Loss: categorical_hinge"
      ]
    },
    {
      "cell_type": "code",
      "execution_count": 42,
      "id": "differential-conditioning",
      "metadata": {
        "colab": {
          "base_uri": "https://localhost:8080/",
          "height": 282
        },
        "id": "differential-conditioning",
        "outputId": "eff0561c-418d-40ff-915f-4442bba7c161"
      },
      "outputs": [
        {
          "output_type": "stream",
          "name": "stdout",
          "text": [
            "223/223 [==============================] - 1s 5ms/step - loss: 0.2469 - accuracy: 0.2009\n"
          ]
        },
        {
          "output_type": "display_data",
          "data": {
            "image/png": "[encoded data removed]",
            "text/plain": [
              "<Figure size 432x288 with 1 Axes>"
            ]
          },
          "metadata": {
            "needs_background": "light"
          }
        }
      ],
      "source": [
        "age_model = build_model(5, activation='softmax', loss='categorical_hinge')\n",
        "\n",
        "age_history = age_model.fit(\n",
        "    X_age_train,\n",
        "    y_age_train,\n",
        "    validation_split=0.2,\n",
        "    batch_size=5000,\n",
        "    epochs=50,\n",
        "    callbacks=[tf.keras.callbacks.ReduceLROnPlateau()],\n",
        "    verbose=0\n",
        ")\n",
        "\n",
        "x = np.linspace(0, 50, 50)\n",
        "plt.plot(x, age_history.history['loss'])\n",
        "plt.plot(x, age_history.history['val_loss'])\n",
        "\n",
        "age_acc = age_model.evaluate(X_age_test, y_age_test)[1]"
      ]
    },
    {
      "cell_type": "code",
      "execution_count": 43,
      "id": "suburban-darwin",
      "metadata": {
        "id": "suburban-darwin"
      },
      "outputs": [],
      "source": [
        "## Activation: relu, Loss: categorical_hinge"
      ]
    },
    {
      "cell_type": "code",
      "execution_count": 44,
      "id": "peaceful-appearance",
      "metadata": {
        "colab": {
          "base_uri": "https://localhost:8080/",
          "height": 282
        },
        "id": "peaceful-appearance",
        "outputId": "fd447db7-60eb-41b2-8c3f-0cbb28bc30bf"
      },
      "outputs": [
        {
          "output_type": "stream",
          "name": "stdout",
          "text": [
            "223/223 [==============================] - 1s 5ms/step - loss: 0.2404 - accuracy: 0.1971\n"
          ]
        },
        {
          "output_type": "display_data",
          "data": {
            "image/png": "[encoded data removed]",
            "text/plain": [
              "<Figure size 432x288 with 1 Axes>"
            ]
          },
          "metadata": {
            "needs_background": "light"
          }
        }
      ],
      "source": [
        "age_model = build_model(5, activation='relu', loss='categorical_hinge')\n",
        "\n",
        "age_history = age_model.fit(\n",
        "    X_age_train,\n",
        "    y_age_train,\n",
        "    validation_split=0.2,\n",
        "    batch_size=5000,\n",
        "    epochs=50,\n",
        "    callbacks=[tf.keras.callbacks.ReduceLROnPlateau()],\n",
        "    verbose=0\n",
        ")\n",
        "\n",
        "x = np.linspace(0, 50, 50)\n",
        "plt.plot(x, age_history.history['loss'])\n",
        "plt.plot(x, age_history.history['val_loss'])\n",
        "\n",
        "age_acc = age_model.evaluate(X_age_test, y_age_test)[1]"
      ]
    },
    {
      "cell_type": "code",
      "execution_count": 45,
      "id": "spatial-indian",
      "metadata": {
        "id": "spatial-indian"
      },
      "outputs": [],
      "source": [
        "## Age Training Fix Loss: logcosh"
      ]
    },
    {
      "cell_type": "code",
      "execution_count": 46,
      "id": "uniform-lottery",
      "metadata": {
        "id": "uniform-lottery"
      },
      "outputs": [],
      "source": [
        "## Activation: sigmoid, Loss: logcosh"
      ]
    },
    {
      "cell_type": "code",
      "execution_count": 47,
      "id": "regulated-filter",
      "metadata": {
        "colab": {
          "base_uri": "https://localhost:8080/",
          "height": 282
        },
        "id": "regulated-filter",
        "outputId": "143ad3b4-e3c6-40c1-f4a9-6afaa1a95da7"
      },
      "outputs": [
        {
          "output_type": "stream",
          "name": "stdout",
          "text": [
            "223/223 [==============================] - 1s 5ms/step - loss: 0.8908 - accuracy: 0.2057\n"
          ]
        },
        {
          "output_type": "display_data",
          "data": {
            "image/png": "[encoded data removed]",
            "text/plain": [
              "<Figure size 432x288 with 1 Axes>"
            ]
          },
          "metadata": {
            "needs_background": "light"
          }
        }
      ],
      "source": [
        "age_model = build_model(5, activation='sigmoid', loss='logcosh')\n",
        "\n",
        "age_history = age_model.fit(\n",
        "    X_age_train,\n",
        "    y_age_train,\n",
        "    validation_split=0.2,\n",
        "    batch_size=5000,\n",
        "    epochs=50,\n",
        "    callbacks=[tf.keras.callbacks.ReduceLROnPlateau()],\n",
        "    verbose=0\n",
        ")\n",
        "\n",
        "x = np.linspace(0, 50, 50)\n",
        "plt.plot(x, age_history.history['loss'])\n",
        "plt.plot(x, age_history.history['val_loss'])\n",
        "\n",
        "age_acc = age_model.evaluate(X_age_test, y_age_test)[1]"
      ]
    },
    {
      "cell_type": "code",
      "execution_count": 48,
      "id": "thermal-panama",
      "metadata": {
        "id": "thermal-panama"
      },
      "outputs": [],
      "source": [
        "## Activation: softmax, Loss: logcosh"
      ]
    },
    {
      "cell_type": "code",
      "execution_count": 49,
      "id": "operational-future",
      "metadata": {
        "colab": {
          "base_uri": "https://localhost:8080/",
          "height": 286
        },
        "id": "operational-future",
        "outputId": "6d3bf9a5-5c08-4099-fc4d-a73d3106f803"
      },
      "outputs": [
        {
          "output_type": "stream",
          "name": "stdout",
          "text": [
            "223/223 [==============================] - 1s 5ms/step - loss: 1.3135 - accuracy: 0.1918\n"
          ]
        },
        {
          "output_type": "display_data",
          "data": {
            "image/png": "[encoded data removed]",
            "text/plain": [
              "<Figure size 432x288 with 1 Axes>"
            ]
          },
          "metadata": {
            "needs_background": "light"
          }
        }
      ],
      "source": [
        "age_model = build_model(5, activation='softmax', loss='logcosh')\n",
        "\n",
        "age_history = age_model.fit(\n",
        "    X_age_train,\n",
        "    y_age_train,\n",
        "    validation_split=0.2,\n",
        "    batch_size=5000,\n",
        "    epochs=50,\n",
        "    callbacks=[tf.keras.callbacks.ReduceLROnPlateau()],\n",
        "    verbose=0\n",
        ")\n",
        "\n",
        "x = np.linspace(0, 50, 50)\n",
        "plt.plot(x, age_history.history['loss'])\n",
        "plt.plot(x, age_history.history['val_loss'])\n",
        "\n",
        "age_acc = age_model.evaluate(X_age_test, y_age_test)[1]"
      ]
    },
    {
      "cell_type": "code",
      "execution_count": 50,
      "id": "alpha-connection",
      "metadata": {
        "id": "alpha-connection"
      },
      "outputs": [],
      "source": [
        "## Activation: relu, Loss: logcosh"
      ]
    },
    {
      "cell_type": "code",
      "execution_count": 51,
      "id": "empirical-present",
      "metadata": {
        "colab": {
          "base_uri": "https://localhost:8080/",
          "height": 282
        },
        "id": "empirical-present",
        "outputId": "0df1dab9-8af7-4823-b575-f3fe7da075c4"
      },
      "outputs": [
        {
          "output_type": "stream",
          "name": "stdout",
          "text": [
            "223/223 [==============================] - 1s 5ms/step - loss: 0.4541 - accuracy: 0.2199\n"
          ]
        },
        {
          "output_type": "display_data",
          "data": {
            "image/png": "[encoded data removed]",
            "text/plain": [
              "<Figure size 432x288 with 1 Axes>"
            ]
          },
          "metadata": {
            "needs_background": "light"
          }
        }
      ],
      "source": [
        "age_model = build_model(5, activation='relu', loss='logcosh')\n",
        "\n",
        "age_history = age_model.fit(\n",
        "    X_age_train,\n",
        "    y_age_train,\n",
        "    validation_split=0.2,\n",
        "    batch_size=5000,\n",
        "    epochs=50,\n",
        "    callbacks=[tf.keras.callbacks.ReduceLROnPlateau()],\n",
        "    verbose=0\n",
        ")\n",
        "\n",
        "x = np.linspace(0, 50, 50)\n",
        "plt.plot(x, age_history.history['loss'])\n",
        "plt.plot(x, age_history.history['val_loss'])\n",
        "\n",
        "age_acc = age_model.evaluate(X_age_test, y_age_test)[1]"
      ]
    }
  ],
  "metadata": {
    "kernelspec": {
      "display_name": "Python 3",
      "language": "python",
      "name": "python3"
    },
    "language_info": {
      "codemirror_mode": {
        "name": "ipython",
        "version": 3
      },
      "file_extension": ".py",
      "mimetype": "text/x-python",
      "name": "python",
      "nbconvert_exporter": "python",
      "pygments_lexer": "ipython3",
      "version": "3.8.6"
    },
    "colab": {
      "name": "DLProjectAge5-New.ipynb",
      "provenance": [],
      "collapsed_sections": [
        "cooked-gentleman",
        "helpful-caution",
        "existing-harassment",
        "exclusive-cruise"
      ]
    },
    "accelerator": "GPU"
  },
  "nbformat": 4,
  "nbformat_minor": 5
}